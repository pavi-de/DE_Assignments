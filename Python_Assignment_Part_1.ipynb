{
  "nbformat": 4,
  "nbformat_minor": 0,
  "metadata": {
    "colab": {
      "provenance": [],
      "authorship_tag": "ABX9TyPSjb44WAB7MSQlu08I8rGV",
      "include_colab_link": true
    },
    "kernelspec": {
      "name": "python3",
      "display_name": "Python 3"
    },
    "language_info": {
      "name": "python"
    }
  },
  "cells": [
    {
      "cell_type": "markdown",
      "metadata": {
        "id": "view-in-github",
        "colab_type": "text"
      },
      "source": [
        "<a href=\"https://colab.research.google.com/github/pavi-de/DE_Assignments/blob/main/Python_Assignment_Part_1.ipynb\" target=\"_parent\"><img src=\"https://colab.research.google.com/assets/colab-badge.svg\" alt=\"Open In Colab\"/></a>"
      ]
    },
    {
      "cell_type": "markdown",
      "source": [
        "# Q1. Why do we call Python as a general purpose and high-level programming language?"
      ],
      "metadata": {
        "id": "UEBRtREB6gg0"
      }
    },
    {
      "cell_type": "markdown",
      "source": [
        "Ans: Python is a general-purpose language that is broadly applicable across application domains. It is designed to be used in a range of applications like Full Stack development, Web development, Data Science, Automation, Scripting, Gaming etc..\n",
        "Python is a high-level programming language, because its syntax is very clear and more readable like English language. "
      ],
      "metadata": {
        "id": "QSd4mkHe6zyw"
      }
    },
    {
      "cell_type": "markdown",
      "source": [
        "# Q2. Why is Python called a dynamically typed language?\n",
        "\n"
      ],
      "metadata": {
        "id": "xB3wUJlb7CuS"
      }
    },
    {
      "cell_type": "markdown",
      "source": [
        "Ans: Python is a dynamically typed language. In python don't require data type declaration like other programming langaages ex: C, C++, JAVA etc.\n",
        "\t\tEx: name = 'JoyJoy', age = 19 \n",
        "In able example, not declarning any data type of specified variable of name and age. Python creates reference to variables and its values. Python determines during run-time its data types."
      ],
      "metadata": {
        "id": "uS7JxAiL7SFM"
      }
    },
    {
      "cell_type": "markdown",
      "source": [
        "# Q3. List some pros and cons of Python programming language?"
      ],
      "metadata": {
        "id": "s5il109c7eKp"
      }
    },
    {
      "cell_type": "markdown",
      "source": [
        "Ans:  Pros: Its free & Open Source, Easy to learn and read, Large Community, Extensive libraries, Highly Scalable,Portable, Interpreted language.   \n",
        "\t\tCons: Slow compare to other langugage due to line-by-line exection of a code, doesn't support for andriod development, consumes a lot of memory space."
      ],
      "metadata": {
        "id": "UmU9ih_f7pUg"
      }
    },
    {
      "cell_type": "markdown",
      "source": [
        "# Q4. In what all domains can we use Python?"
      ],
      "metadata": {
        "id": "qwgjOENP9Dxj"
      }
    },
    {
      "cell_type": "markdown",
      "source": [
        "Ans: Full stack development, Web Development, Automation, Scripting, Game Development, Machine Learning and Artificial Intelligence,  Data Science and Data Visualization, Desktop GUI, Web Scraping Applications,     Business Applications etc…\n"
      ],
      "metadata": {
        "id": "3gxH_Hmz9Qei"
      }
    },
    {
      "cell_type": "markdown",
      "source": [
        "# Q5. What are variable and how can we declare them?"
      ],
      "metadata": {
        "id": "NpkESSEp9XNG"
      }
    },
    {
      "cell_type": "markdown",
      "source": [
        "Ans: Python Variable is like place holder/reserved memory location to store values.\n",
        "         Ex: name = 'JoyJoy, age = 19 # name & age are variables and its store the values.\n"
      ],
      "metadata": {
        "id": "stsDVSWQ9bqn"
      }
    },
    {
      "cell_type": "markdown",
      "source": [
        "# Q6. How can we take an input from the user in Python?"
      ],
      "metadata": {
        "id": "FYZdTI829nC2"
      }
    },
    {
      "cell_type": "code",
      "source": [
        "# Ans: using 'input' function, we can prompt key-in/type the required values.\n",
        "\n",
        "name = input(\"Type your name to login : \")\n",
        "print(name)\n"
      ],
      "metadata": {
        "colab": {
          "base_uri": "https://localhost:8080/"
        },
        "id": "IM5cl0yU9zH0",
        "outputId": "846f6a5d-8979-4b9d-ab95-991e4d7c71d1"
      },
      "execution_count": null,
      "outputs": [
        {
          "output_type": "stream",
          "name": "stdout",
          "text": [
            "Type your name to login : JoyJoy\n",
            "JoyJoy\n"
          ]
        }
      ]
    },
    {
      "cell_type": "markdown",
      "source": [
        "# Q7. What is the default datatype of the value that has been taken as an input using input() function?"
      ],
      "metadata": {
        "id": "lmBiNgHP-Oqt"
      }
    },
    {
      "cell_type": "markdown",
      "source": [
        "Ans: In Python input() function by default it returns string object."
      ],
      "metadata": {
        "id": "TCpClyDO-cx7"
      }
    },
    {
      "cell_type": "markdown",
      "source": [
        "# Q8. What is type casting?"
      ],
      "metadata": {
        "id": "IiJb658A-jnM"
      }
    },
    {
      "cell_type": "code",
      "source": [
        "# Ans: Type casting is the process of converting of one data type to another data type.\n",
        "age = '19'\n",
        "print(type(age)) # string data type\n",
        "print(type(int(age))) # Converting string data type to integer data type"
      ],
      "metadata": {
        "colab": {
          "base_uri": "https://localhost:8080/"
        },
        "id": "zAoq7Tq0-p43",
        "outputId": "d2393f5d-5fd6-4747-a475-fccbe54a8683"
      },
      "execution_count": null,
      "outputs": [
        {
          "output_type": "stream",
          "name": "stdout",
          "text": [
            "<class 'str'>\n",
            "<class 'int'>\n"
          ]
        }
      ]
    },
    {
      "cell_type": "markdown",
      "source": [
        "# Q9. Can we take more than one input from the user using single input() function? If yes, how? If no, why?"
      ],
      "metadata": {
        "id": "laRzx7Jr_Cde"
      }
    },
    {
      "cell_type": "markdown",
      "source": [
        "Ans: Using single input() function, we can take multiple input from the user by defining variable with seperator and using methods and list compreshension."
      ],
      "metadata": {
        "id": "p0n3eEX__gPS"
      }
    },
    {
      "cell_type": "code",
      "source": [
        "# Using split() method: split() method helps in getting multiple inputs from users. It breaks the given input by the specified seperators.\n",
        "\n",
        "name, age = input(\"Enter your name and age : \").split()\n",
        "print(name, age)\n"
      ],
      "metadata": {
        "colab": {
          "base_uri": "https://localhost:8080/"
        },
        "id": "ZoGP9IEk_PAV",
        "outputId": "fcfa3c97-22c4-4b7e-e97c-3643e4a0e2ea"
      },
      "execution_count": null,
      "outputs": [
        {
          "output_type": "stream",
          "name": "stdout",
          "text": [
            "Enter your name and age : JoyJoy 19\n",
            "JoyJoy 19\n"
          ]
        }
      ]
    },
    {
      "cell_type": "code",
      "source": [
        "# Using List compreshension: List comprehension offers a shorter syntax for creating a list from any existing iternable object.\n",
        "\n",
        "x, y = [int(x) for x in input(\"Enter two values: \").split()]\n"
      ],
      "metadata": {
        "colab": {
          "base_uri": "https://localhost:8080/"
        },
        "id": "cgpy2KVw_ZNr",
        "outputId": "597be960-52f9-48e1-8b86-a6ff74c49d12"
      },
      "execution_count": null,
      "outputs": [
        {
          "name": "stdout",
          "output_type": "stream",
          "text": [
            "Enter two values: 1 2\n"
          ]
        }
      ]
    },
    {
      "cell_type": "markdown",
      "source": [
        "# Q10. What are keywords?"
      ],
      "metadata": {
        "id": "4-DUVjUCAXUt"
      }
    },
    {
      "cell_type": "markdown",
      "source": [
        "Ans: Python keywords are reserved words and cannot be used as variable names, function name, or for any other identifiers. Below are the list of reserved keywords.\n",
        "\t['False', 'None', 'True', 'and', 'as', 'assert', 'async', 'await', 'break', 'class', 'continue', 'def', 'del', 'elif', 'else', 'except', 'finally', 'for', 'from', 'global', 'if', 'import', 'in', 'is', 'lambda', 'nonlocal', 'not', 'or', 'pass', 'raise', 'return', 'try', 'while', 'with', 'yield']\n"
      ],
      "metadata": {
        "id": "KU4TYOOsAfFi"
      }
    },
    {
      "cell_type": "markdown",
      "source": [
        "# Q11. Can we use keywords as a variable? Support your answer with reason."
      ],
      "metadata": {
        "id": "jIkY6_r8AkaO"
      }
    },
    {
      "cell_type": "markdown",
      "source": [
        "Ans: In Python, keywords are the reserved names that are built-in to Python, so a keyword cannot be used as an identifier - they have a special meaning and we cannot use them as identifier names."
      ],
      "metadata": {
        "id": "qhs3C329Ar-s"
      }
    },
    {
      "cell_type": "markdown",
      "source": [
        "# Q12. What is indentation? What's the use of indentaion in Python?"
      ],
      "metadata": {
        "id": "WWXK05bxAyB8"
      }
    },
    {
      "cell_type": "code",
      "source": [
        "# Ans: Python indentation is a way of telling the Python interpreter that a series of statements belong to a single block of code. \n",
        "# Block of code is represented using colon(:).\n",
        "\n",
        "name = \"JoyJoy\"\n",
        "\n",
        "if name == \"JoyJoy\":\n",
        "  print(\"Welcome to Python JoyJoy\")\n",
        "\n"
      ],
      "metadata": {
        "colab": {
          "base_uri": "https://localhost:8080/"
        },
        "id": "9L-1m2QUA12r",
        "outputId": "e239154f-ad60-4085-9716-de9ae74f6ef6"
      },
      "execution_count": null,
      "outputs": [
        {
          "output_type": "stream",
          "name": "stdout",
          "text": [
            "Welcome to Python JoyJoy\n"
          ]
        }
      ]
    },
    {
      "cell_type": "markdown",
      "source": [
        "# Q13. How can we throw some output in Python?"
      ],
      "metadata": {
        "id": "0zkyEVOWBJlk"
      }
    },
    {
      "cell_type": "markdown",
      "source": [
        "Ans: using print() function, we display the results"
      ],
      "metadata": {
        "id": "siIb3S-LBTY5"
      }
    },
    {
      "cell_type": "markdown",
      "source": [
        "# Q14. What are operators in Python?"
      ],
      "metadata": {
        "id": "Dfr7gjiuBYQn"
      }
    },
    {
      "cell_type": "markdown",
      "source": [
        "Ans: Below are the list of operators in Python.\n",
        " Arithmetic operators\n",
        " Assignment operators\n",
        " Comparison operators\n",
        " Logical operators\n",
        " Identity operators\n",
        " Membership operators\n",
        "\n",
        "\n",
        "\n",
        "\n"
      ],
      "metadata": {
        "id": "8OqPvrA7BmIf"
      }
    },
    {
      "cell_type": "markdown",
      "source": [
        "# Q15. What is difference between / and // operators?"
      ],
      "metadata": {
        "id": "drsKXorJB9Hr"
      }
    },
    {
      "cell_type": "code",
      "source": [
        "# Ans: / : Division gives decimal point result.\n",
        "#\t     // :  Floor Divions gives interger result.\n",
        "# Ex:\n",
        "div = 9 / 2\n",
        "print(div)\n",
        "\n",
        "floor_div = 9 // 2\n",
        "print(floor_div)"
      ],
      "metadata": {
        "colab": {
          "base_uri": "https://localhost:8080/"
        },
        "id": "mdiaLBU2CDIv",
        "outputId": "6e643c98-c123-4880-af2a-aa3760c4f915"
      },
      "execution_count": null,
      "outputs": [
        {
          "output_type": "stream",
          "name": "stdout",
          "text": [
            "4.5\n",
            "4\n"
          ]
        }
      ]
    },
    {
      "cell_type": "markdown",
      "source": [
        "# Q16. Write a code that gives following as an output\n",
        "#\t```\n",
        "#\tiNeuroniNeuroniNeuroniNeuron\n",
        "#\t```\n",
        "\t\n"
      ],
      "metadata": {
        "id": "MlDt-Kr3CcSG"
      }
    },
    {
      "cell_type": "code",
      "source": [
        "org = '\\\"\\\"\\\"\\niNeuroniNeuroniNeuroniNeuron \\n\"\\\"\\\"'\n",
        "print(org)"
      ],
      "metadata": {
        "colab": {
          "base_uri": "https://localhost:8080/"
        },
        "id": "XJQ6dVGXCsYm",
        "outputId": "e44db145-d69a-4ffb-94f3-148ebb4b3b61"
      },
      "execution_count": null,
      "outputs": [
        {
          "output_type": "stream",
          "name": "stdout",
          "text": [
            "\"\"\"\n",
            "iNeuroniNeuroniNeuroniNeuron \n",
            "\"\"\"\n"
          ]
        }
      ]
    },
    {
      "cell_type": "markdown",
      "source": [
        "# Q17. Write a code to take a number as an input from the user and check if the number is odd or even."
      ],
      "metadata": {
        "id": "pvgXS6ZKDWfx"
      }
    },
    {
      "cell_type": "code",
      "source": [
        "num = int(input(\"Enter the number: \"))\n",
        "if num % 2 == 0:\n",
        "  print(\"Even Number\")\n",
        "elif num % 2 !=0:\n",
        "  print(\"Odd Number\")"
      ],
      "metadata": {
        "colab": {
          "base_uri": "https://localhost:8080/"
        },
        "id": "3rOL-V4MDha-",
        "outputId": "b98ece38-fa4b-4e48-95d7-78b4abdaa516"
      },
      "execution_count": null,
      "outputs": [
        {
          "output_type": "stream",
          "name": "stdout",
          "text": [
            "Enter the number: 3\n",
            "Odd Number\n"
          ]
        }
      ]
    },
    {
      "cell_type": "markdown",
      "source": [
        "# Q18. What are boolean operator?"
      ],
      "metadata": {
        "id": "UzE_JRpWD8TI"
      }
    },
    {
      "cell_type": "markdown",
      "source": [
        "Ans: An expression that evaluates the results to either True = 1 or False = 0"
      ],
      "metadata": {
        "id": "j7ReAVZxECSc"
      }
    },
    {
      "cell_type": "markdown",
      "source": [
        "# Q19. What will the output of the following?\n",
        "1 or 0\n",
        "0 and 0\n",
        "True and False and True\n",
        "1 or 0 or 0"
      ],
      "metadata": {
        "id": "k_5e9LAYEFjX"
      }
    },
    {
      "cell_type": "code",
      "source": [
        "# 1 or 0 = Ans: 1\n",
        "# 0 and 0 = Ans : 0\n",
        "# True and False and True = Ans : False\n",
        "# 1 or 0 or 0 = 0 Ans: 1\n",
        "\n",
        "print(1 or 0)\n",
        "print(0 and 0)\n",
        "print(True and False and True)\n",
        "print(1 or 0 or 0)"
      ],
      "metadata": {
        "colab": {
          "base_uri": "https://localhost:8080/"
        },
        "id": "H2CrBhayEbWa",
        "outputId": "995cb7f0-7c27-4700-de27-d29b352382a6"
      },
      "execution_count": null,
      "outputs": [
        {
          "output_type": "stream",
          "name": "stdout",
          "text": [
            "1\n",
            "0\n",
            "False\n",
            "1\n"
          ]
        }
      ]
    },
    {
      "cell_type": "markdown",
      "source": [
        "# Q20. What are conditional statements in Python?"
      ],
      "metadata": {
        "id": "19d6NZaEE2F2"
      }
    },
    {
      "cell_type": "markdown",
      "source": [
        "Ans: Conditional statement is used to controls the flow of execution depending on some condition."
      ],
      "metadata": {
        "id": "b24Yn90aFFNL"
      }
    },
    {
      "cell_type": "markdown",
      "source": [
        "# Q21. What is use of 'if', 'elif' and 'else' keywords?"
      ],
      "metadata": {
        "id": "jWw9JiljFHdE"
      }
    },
    {
      "cell_type": "markdown",
      "source": [
        "Ans: if-elif-else keywords/statement is used in Python for decision-making i,e the program will evaludate test expression and will execute the remaining statements only if the given test expression turns out to be true. This allows validation for multiple expressions."
      ],
      "metadata": {
        "id": "2rGFBFPMFOZZ"
      }
    },
    {
      "cell_type": "markdown",
      "source": [
        "# Q22. Write a code to take the age of person as an input and if age >= 18 display \"I can vote\". If age is < 18 display \"I can't vote\"."
      ],
      "metadata": {
        "id": "BxQQqUmyFTyk"
      }
    },
    {
      "cell_type": "code",
      "source": [
        "# Age validation for voting\n",
        "\n",
        "voter = int(input(\"Enter your age: \"))\n",
        "\n",
        "if voter >= 18:\n",
        "  print(\"I can vote\")\n",
        "elif voter < 18:\n",
        "  print(\"I can't vote\")"
      ],
      "metadata": {
        "colab": {
          "base_uri": "https://localhost:8080/"
        },
        "id": "lvq_yQ0wFcRQ",
        "outputId": "960a3fe0-0299-49e9-a326-154fd4990bcd"
      },
      "execution_count": null,
      "outputs": [
        {
          "output_type": "stream",
          "name": "stdout",
          "text": [
            "Enter your age: 17\n",
            "I can't vote\n"
          ]
        }
      ]
    },
    {
      "cell_type": "markdown",
      "source": [
        "# Q23. Write a code that displays the sum of all the even numbers from the given list.\n",
        "```\n",
        "numbers = [12, 75, 150, 180, 145, 525, 50]\n",
        "```"
      ],
      "metadata": {
        "id": "tcPZk63cF0fG"
      }
    },
    {
      "cell_type": "code",
      "source": [
        "numbers = [12, 75, 150, 180, 145, 525, 50]\n",
        "\n",
        "even = []\n",
        "\n",
        "for i in numbers:\n",
        "  if i % 2 == 0:\n",
        "    even.append(i)\n",
        "  \n",
        "print(f\"The total sum of even number is: {sum(even)}\")\n"
      ],
      "metadata": {
        "colab": {
          "base_uri": "https://localhost:8080/"
        },
        "id": "hM5FAYCKGBA4",
        "outputId": "cc06ff7d-4472-4db2-d3f2-ea0fb2d7c72a"
      },
      "execution_count": null,
      "outputs": [
        {
          "output_type": "stream",
          "name": "stdout",
          "text": [
            "The total sum of even number is: 392\n"
          ]
        }
      ]
    },
    {
      "cell_type": "markdown",
      "source": [
        "# Q24. Write a code to take 3 numbers as an input from the user and display the greatest no as output."
      ],
      "metadata": {
        "id": "cHiTeLJ3GpC8"
      }
    },
    {
      "cell_type": "code",
      "source": [
        "user1, user2, user3 = input(\"Enter 3 numbers\").split()\n",
        "\n",
        "if (user1 >= user2) and (user1 >= user3):\n",
        "  greatest = user1\n",
        "elif (user2 >= user1) and (user2 >= user3):\n",
        "  greatest = user2\n",
        "else:\n",
        "  greatest = user3\n",
        "\n",
        "print(\"The greatest number is: \", greatest)"
      ],
      "metadata": {
        "colab": {
          "base_uri": "https://localhost:8080/"
        },
        "id": "k-rCMBSkGx4P",
        "outputId": "77390a97-ad86-4b21-abeb-c0d590ecda30"
      },
      "execution_count": null,
      "outputs": [
        {
          "output_type": "stream",
          "name": "stdout",
          "text": [
            "Enter 3 numbers11 99 33\n",
            "The greatest number is:  99\n"
          ]
        }
      ]
    },
    {
      "cell_type": "markdown",
      "source": [
        "# Q25. Write a program to display only those numbers from a list that satisfy the following conditions\n",
        "\t- The number must be divisible by five\n",
        "\t\n",
        "\t- If the number is greater than 150, then skip it and move to the next number\n",
        "\t\n",
        "\t- If the number is greater than 500, then stop the loop\n",
        "```\n",
        "numbers = [12, 75, 150, 180, 145, 525, 50]\n",
        "```"
      ],
      "metadata": {
        "id": "Gixu-Y-_H1n6"
      }
    },
    {
      "cell_type": "code",
      "source": [
        "# divisible by 5, > 150 skip, > 500 stop lookup\n",
        "numbers = [12, 75, 150, 180, 145, 525, 50]\n",
        "\n",
        "divisible_no = []\n",
        "\n",
        "for i in numbers:\n",
        "  if i > 150:\n",
        "    continue\n",
        "  elif i > 500:\n",
        "    break\n",
        "  if i % 5 == 0:\n",
        "    divisible_no.append(i)\n",
        "\n",
        "print(\"Numbers divisible by 5 are :\", divisible_no)"
      ],
      "metadata": {
        "colab": {
          "base_uri": "https://localhost:8080/"
        },
        "id": "wziNclmhIFNU",
        "outputId": "7ef6e40c-e0c4-4325-ec53-04649bcac91d"
      },
      "execution_count": null,
      "outputs": [
        {
          "output_type": "stream",
          "name": "stdout",
          "text": [
            "Numbers divisible by 5 are : [75, 150, 145, 50]\n"
          ]
        }
      ]
    },
    {
      "cell_type": "markdown",
      "source": [
        "# Q26. What is a string? How can we declare string in Python?"
      ],
      "metadata": {
        "id": "abF2yng9SN8g"
      }
    },
    {
      "cell_type": "code",
      "source": [
        "# String is a data type that stores squences of characters.\n",
        "# String can be declared in single quote '' and double quote \"\"\n",
        "\n",
        "banner = \"Welcome to Python Learning Batch\"\n",
        "batch = '2'\n",
        "\n",
        "print(type(banner))\n",
        "print(type(batch))\n",
        "print(banner + \" \" + batch)"
      ],
      "metadata": {
        "colab": {
          "base_uri": "https://localhost:8080/"
        },
        "id": "svdTJTPoSqXM",
        "outputId": "2f52acb8-09ea-4944-d780-06a234bd4b5e"
      },
      "execution_count": null,
      "outputs": [
        {
          "output_type": "stream",
          "name": "stdout",
          "text": [
            "<class 'str'>\n",
            "<class 'str'>\n",
            "Welcome to Python Learning Batch 2\n"
          ]
        }
      ]
    },
    {
      "cell_type": "code",
      "source": [],
      "metadata": {
        "id": "jSAWQ7ilTPvg"
      },
      "execution_count": null,
      "outputs": []
    },
    {
      "cell_type": "markdown",
      "source": [
        "# Q27. How can we access the string using its index?"
      ],
      "metadata": {
        "id": "89l6ii9RT3Qa"
      }
    },
    {
      "cell_type": "code",
      "source": [
        "# String can be accessing use index values and index start from zero(0)\n",
        "\n",
        "msg = \"Hello World\"\n",
        "\n",
        "print(msg[0])\n",
        "print(msg[1])\n",
        "print(msg[6:])\n"
      ],
      "metadata": {
        "colab": {
          "base_uri": "https://localhost:8080/"
        },
        "id": "M7ZqYywlT9lM",
        "outputId": "a65a227f-d4ec-42dc-ac0e-40958fc288bb"
      },
      "execution_count": null,
      "outputs": [
        {
          "output_type": "stream",
          "name": "stdout",
          "text": [
            "H\n",
            "e\n",
            "World\n"
          ]
        }
      ]
    },
    {
      "cell_type": "markdown",
      "source": [
        "# Q28. Write a code to get the desired output of the following\n",
        "string = \"Big Data iNeuron\"\n",
        "desired_output = \"iNeuron\""
      ],
      "metadata": {
        "id": "2XWOP8TlUZYE"
      }
    },
    {
      "cell_type": "code",
      "source": [
        "string = \"Big Data iNeuron\"\n",
        "\n",
        "print(f\"\\\"{string[9:]}\\\"\")"
      ],
      "metadata": {
        "colab": {
          "base_uri": "https://localhost:8080/"
        },
        "id": "pfpmkzFIUiDJ",
        "outputId": "a88f00e7-f75a-4340-9a09-9704f7d4d9e3"
      },
      "execution_count": null,
      "outputs": [
        {
          "output_type": "stream",
          "name": "stdout",
          "text": [
            "\"iNeuron\"\n"
          ]
        }
      ]
    },
    {
      "cell_type": "markdown",
      "source": [
        "# Q29. Write a code to get the desired output of the following\n",
        "string = \"Big Data iNeuron\"\n",
        "desired_output = \"norueNi\""
      ],
      "metadata": {
        "id": "SSkXVV0EU_aL"
      }
    },
    {
      "cell_type": "code",
      "source": [
        "string = \"Big Data iNeuron\"\n",
        "str_part = string[-1:-8:-1]\n",
        "print(f\"\\\"{str_part}\\\"\")\n"
      ],
      "metadata": {
        "colab": {
          "base_uri": "https://localhost:8080/"
        },
        "id": "B9JdWSFxVHQa",
        "outputId": "2f6ca18d-4387-4bb9-c985-9a3d6fc206c4"
      },
      "execution_count": null,
      "outputs": [
        {
          "output_type": "stream",
          "name": "stdout",
          "text": [
            "\"norueNi\"\n"
          ]
        }
      ]
    },
    {
      "cell_type": "markdown",
      "source": [
        "# Q30. Resverse the string given in the above question.\n",
        "string = \"Big Data iNeuron\"\n"
      ],
      "metadata": {
        "id": "x5Tryj0oW_01"
      }
    },
    {
      "cell_type": "code",
      "source": [
        "string = \"Big Data iNeuron\"\n",
        "\n",
        "print(string[::-1])"
      ],
      "metadata": {
        "colab": {
          "base_uri": "https://localhost:8080/"
        },
        "id": "euBx7fuZXMC-",
        "outputId": "135c3f84-8db7-43d4-b3a4-20dee72d2e6d"
      },
      "execution_count": null,
      "outputs": [
        {
          "output_type": "stream",
          "name": "stdout",
          "text": [
            "norueNi ataD giB\n"
          ]
        }
      ]
    },
    {
      "cell_type": "markdown",
      "source": [
        "# Q31. How can you delete entire string at once?\n",
        "string = \"Big Data iNeuron\"\n"
      ],
      "metadata": {
        "id": "_L5na9UOXprX"
      }
    },
    {
      "cell_type": "code",
      "source": [
        "string = \"Big Data iNeuron\"\n",
        "\n",
        "print(string)\n",
        "\n",
        "# using delete function, we can delete entire string at once\n",
        "del string\n",
        "\n",
        "print(string)\n"
      ],
      "metadata": {
        "colab": {
          "base_uri": "https://localhost:8080/",
          "height": 223
        },
        "id": "8-IXxkDDX3Za",
        "outputId": "92dfe7e3-89d5-4b08-9909-7777c6ed6e0d"
      },
      "execution_count": null,
      "outputs": [
        {
          "output_type": "stream",
          "name": "stdout",
          "text": [
            "Big Data iNeuron\n"
          ]
        },
        {
          "output_type": "error",
          "ename": "NameError",
          "evalue": "ignored",
          "traceback": [
            "\u001b[0;31m---------------------------------------------------------------------------\u001b[0m",
            "\u001b[0;31mNameError\u001b[0m                                 Traceback (most recent call last)",
            "\u001b[0;32m<ipython-input-65-db9fdee6e8b3>\u001b[0m in \u001b[0;36m<module>\u001b[0;34m\u001b[0m\n\u001b[1;32m      6\u001b[0m \u001b[0;32mdel\u001b[0m \u001b[0mstring\u001b[0m\u001b[0;34m\u001b[0m\u001b[0;34m\u001b[0m\u001b[0m\n\u001b[1;32m      7\u001b[0m \u001b[0;34m\u001b[0m\u001b[0m\n\u001b[0;32m----> 8\u001b[0;31m \u001b[0mprint\u001b[0m\u001b[0;34m(\u001b[0m\u001b[0mstring\u001b[0m\u001b[0;34m)\u001b[0m\u001b[0;34m\u001b[0m\u001b[0;34m\u001b[0m\u001b[0m\n\u001b[0m",
            "\u001b[0;31mNameError\u001b[0m: name 'string' is not defined"
          ]
        }
      ]
    },
    {
      "cell_type": "markdown",
      "source": [
        "# Q32. What is escape sequence?"
      ],
      "metadata": {
        "id": "FJieC3liZIKJ"
      }
    },
    {
      "cell_type": "markdown",
      "source": [
        "An escape sequence is a sequence of characters that, when used inside a character or string, does not represent itself but is converted into another character or series of characters that may be difficult or impossible to express directly, like newline (\\n), tab (\\t), and so on.\n",
        "\n",
        "In the escape sequence, a character is preceded by a backslash (\\\\) followed by the character you want to represent for the new line. We have something like this \\\\\\n.\n",
        "\n",
        "This character serves as an escape sequence initiator, and every character (one or more) following it is considered an escape sequence."
      ],
      "metadata": {
        "id": "CXM6BP3BZ9Vp"
      }
    },
    {
      "cell_type": "code",
      "source": [
        "# To print newline character \\n as string in Python\n",
        "print(\"Hello World \\\\n\")\n",
        "\n",
        "# Escape single quote of apostrophe s and treat as string\n",
        "print('Hello Joy\\'s')"
      ],
      "metadata": {
        "colab": {
          "base_uri": "https://localhost:8080/"
        },
        "id": "7Matw7BUZ6QM",
        "outputId": "c83a9d87-7e26-476e-9f7b-61a0e102a6d0"
      },
      "execution_count": null,
      "outputs": [
        {
          "output_type": "stream",
          "name": "stdout",
          "text": [
            "Hello World \\n\n",
            "Hello Joy's\n"
          ]
        }
      ]
    },
    {
      "cell_type": "markdown",
      "source": [
        "# Q33. How can you print the below string?\n",
        "'iNeuron's Big Data Course'"
      ],
      "metadata": {
        "id": "AadX26HKdF_P"
      }
    },
    {
      "cell_type": "code",
      "source": [
        "print('iNeuron\\'s Big Data Course')"
      ],
      "metadata": {
        "colab": {
          "base_uri": "https://localhost:8080/"
        },
        "id": "J7S47mWxdTuX",
        "outputId": "8401faf2-e3e4-4e22-d61f-61950648c481"
      },
      "execution_count": null,
      "outputs": [
        {
          "output_type": "stream",
          "name": "stdout",
          "text": [
            "iNeuron's Big Data Course\n"
          ]
        }
      ]
    },
    {
      "cell_type": "markdown",
      "source": [
        "# Q34. What is a list in Python?\n"
      ],
      "metadata": {
        "id": "fTASVWSSdfxW"
      }
    },
    {
      "cell_type": "markdown",
      "source": [
        "*   List represented in square brackets []\n",
        "*   List is a collection of ordered sequence elements and allow duplicate values\n",
        "*   List can store all type of data\n",
        "*   List is mutable object\n",
        "\n",
        "\n"
      ],
      "metadata": {
        "id": "sZIiuwtzdkfR"
      }
    },
    {
      "cell_type": "markdown",
      "source": [
        "# Q35. How can you create a list in Python?"
      ],
      "metadata": {
        "id": "UyyiZbplesUC"
      }
    },
    {
      "cell_type": "code",
      "source": [
        "mylist = [\"Joy\",19,True,'Welcome',-1]\n",
        "print(mylist)"
      ],
      "metadata": {
        "colab": {
          "base_uri": "https://localhost:8080/"
        },
        "id": "gBNka696evC2",
        "outputId": "ab602c28-effa-4ffc-997c-20618465f5e1"
      },
      "execution_count": null,
      "outputs": [
        {
          "output_type": "stream",
          "name": "stdout",
          "text": [
            "['Joy', 19, True, 'Welcome', -1]\n"
          ]
        }
      ]
    },
    {
      "cell_type": "markdown",
      "source": [
        "# Q36. How can we access the elements in a list?"
      ],
      "metadata": {
        "id": "VNoRYrDQfFCA"
      }
    },
    {
      "cell_type": "code",
      "source": [
        "# Using index values, we can access elements from list and index values starts from zero(0)\n",
        "mylist1 = [\"Joy\",19,\"Welcome\",True,\"Python\"]\n",
        "print(mylist1[2])"
      ],
      "metadata": {
        "colab": {
          "base_uri": "https://localhost:8080/"
        },
        "id": "GAOe5XH2fKjo",
        "outputId": "9baed9ce-f25d-40c7-e114-da7294cac467"
      },
      "execution_count": null,
      "outputs": [
        {
          "output_type": "stream",
          "name": "stdout",
          "text": [
            "Welcome\n"
          ]
        }
      ]
    },
    {
      "cell_type": "markdown",
      "source": [
        "# Q37. Write a code to access the word \"iNeuron\" from the given list.\n",
        "lst = [1,2,3,\"Hi\",[45,54, \"iNeuron\"], \"Big Data\"]"
      ],
      "metadata": {
        "id": "x5LiNdQRffqM"
      }
    },
    {
      "cell_type": "code",
      "source": [
        "lst = [1,2,3,\"Hi\",[45,54, \"iNeuron\"], \"Big Data\"]\n",
        "\n",
        "print(lst[4][2])"
      ],
      "metadata": {
        "colab": {
          "base_uri": "https://localhost:8080/"
        },
        "id": "DdMxbXjNfnh-",
        "outputId": "69a7f077-d687-4984-c18b-a370e37f57d3"
      },
      "execution_count": null,
      "outputs": [
        {
          "output_type": "stream",
          "name": "stdout",
          "text": [
            "iNeuron\n"
          ]
        }
      ]
    },
    {
      "cell_type": "markdown",
      "source": [
        "# Q38. Take a list as an input from the user and find the length of the list."
      ],
      "metadata": {
        "id": "-ARxwD3ff2KA"
      }
    },
    {
      "cell_type": "code",
      "source": [
        "name, age = [x for x in input(\"Enter your name and age :\").split(\",\")]\n",
        "\n",
        "mylist = [name, age]\n",
        "\n",
        "print(mylist)\n",
        "print(len(mylist))"
      ],
      "metadata": {
        "colab": {
          "base_uri": "https://localhost:8080/"
        },
        "id": "qnJn2vmAgBQ3",
        "outputId": "29dbab18-ba77-4abe-c712-437be9f87ad5"
      },
      "execution_count": null,
      "outputs": [
        {
          "output_type": "stream",
          "name": "stdout",
          "text": [
            "Enter your name and age :JoyJoy, 19\n",
            "['JoyJoy', ' 19']\n",
            "2\n"
          ]
        }
      ]
    },
    {
      "cell_type": "markdown",
      "source": [
        "# Q39. Add the word \"Big\" in the 3rd index of the given list.\n",
        "lst = [\"Welcome\", \"to\", \"Data\", \"course\"]\n"
      ],
      "metadata": {
        "id": "RZ984idmqNZT"
      }
    },
    {
      "cell_type": "code",
      "source": [
        "lst = [\"Welcome\", \"to\", \"Data\", \"course\"]\n",
        "\n",
        "print(\"Before inserting the word:\",lst)\n",
        "\n",
        "lst.insert(3,\"Big\")\n",
        "\n",
        "print(\"After inserting the word:\",lst)\n"
      ],
      "metadata": {
        "colab": {
          "base_uri": "https://localhost:8080/"
        },
        "id": "Bc32vu7CqTxc",
        "outputId": "fa90dc4c-0ada-47b5-edcd-a796b1290eb7"
      },
      "execution_count": null,
      "outputs": [
        {
          "output_type": "stream",
          "name": "stdout",
          "text": [
            "Before inserting the word: ['Welcome', 'to', 'Data', 'course']\n",
            "After inserting the word: ['Welcome', 'to', 'Data', 'Big', 'course']\n"
          ]
        }
      ]
    },
    {
      "cell_type": "markdown",
      "source": [
        "# Q40. What is a tuple? How is it different from list?"
      ],
      "metadata": {
        "id": "dpZ_L8gMrFPw"
      }
    },
    {
      "cell_type": "markdown",
      "source": [
        "Tuple represented in paranthesis () and it is used to store multiple data types items seperated by comma in a single variable. Tuple items are immutable. \n",
        "\n",
        "1: Lists are mutable - Tuples are immutable\n",
        "2: Lists have more built-in methods - Tuples have very less built-in methods\n",
        "\n",
        "\n",
        "\n",
        "\n"
      ],
      "metadata": {
        "id": "BQSkLWrcrmtG"
      }
    },
    {
      "cell_type": "code",
      "source": [],
      "metadata": {
        "id": "IA9GwDYBudvr"
      },
      "execution_count": null,
      "outputs": []
    },
    {
      "cell_type": "markdown",
      "source": [
        "# Q41. How can you create a tuple in Python?"
      ],
      "metadata": {
        "id": "AxjpwxPkvA70"
      }
    },
    {
      "cell_type": "code",
      "source": [
        "# Tuple\n",
        "mytuple = (\"Hello\", 1,2,3, True)\n",
        "\n",
        "print(mytuple)\n",
        "print(type(mytuple))"
      ],
      "metadata": {
        "colab": {
          "base_uri": "https://localhost:8080/"
        },
        "id": "WwKRzCVhvF0_",
        "outputId": "23749f8b-fae4-459b-ed4c-d7f5c6b52e70"
      },
      "execution_count": null,
      "outputs": [
        {
          "output_type": "stream",
          "name": "stdout",
          "text": [
            "('Hello', 1, 2, 3, True)\n",
            "<class 'tuple'>\n"
          ]
        }
      ]
    },
    {
      "cell_type": "markdown",
      "source": [
        "# Q42. Create a tuple and try to add your name in the tuple. Are you able to do it? Support your answer with reason."
      ],
      "metadata": {
        "id": "uDdeV2jhvWXf"
      }
    },
    {
      "cell_type": "code",
      "source": [
        "# Creating Tuple\n",
        "mytuple = (\"JoyJoy\", 19)\n",
        "mytuple[1] = 'Kumar' # Tuple is immutable and it does not support item assignment"
      ],
      "metadata": {
        "colab": {
          "base_uri": "https://localhost:8080/",
          "height": 205
        },
        "id": "4ytBWi1IvhCm",
        "outputId": "c644edcf-09b3-48c3-df49-a70fd9c770a0"
      },
      "execution_count": null,
      "outputs": [
        {
          "output_type": "error",
          "ename": "TypeError",
          "evalue": "ignored",
          "traceback": [
            "\u001b[0;31m---------------------------------------------------------------------------\u001b[0m",
            "\u001b[0;31mTypeError\u001b[0m                                 Traceback (most recent call last)",
            "\u001b[0;32m<ipython-input-14-5920a7ffab01>\u001b[0m in \u001b[0;36m<module>\u001b[0;34m\u001b[0m\n\u001b[1;32m      1\u001b[0m \u001b[0;31m# Creating Tuple\u001b[0m\u001b[0;34m\u001b[0m\u001b[0;34m\u001b[0m\u001b[0;34m\u001b[0m\u001b[0m\n\u001b[1;32m      2\u001b[0m \u001b[0mmytuple\u001b[0m \u001b[0;34m=\u001b[0m \u001b[0;34m(\u001b[0m\u001b[0;34m\"JoyJoy\"\u001b[0m\u001b[0;34m,\u001b[0m \u001b[0;36m19\u001b[0m\u001b[0;34m)\u001b[0m\u001b[0;34m\u001b[0m\u001b[0;34m\u001b[0m\u001b[0m\n\u001b[0;32m----> 3\u001b[0;31m \u001b[0mmytuple\u001b[0m\u001b[0;34m[\u001b[0m\u001b[0;36m1\u001b[0m\u001b[0;34m]\u001b[0m \u001b[0;34m=\u001b[0m \u001b[0;34m'Kumar'\u001b[0m \u001b[0;31m# Tuple is immutable and it does not support item assignment\u001b[0m\u001b[0;34m\u001b[0m\u001b[0;34m\u001b[0m\u001b[0m\n\u001b[0m",
            "\u001b[0;31mTypeError\u001b[0m: 'tuple' object does not support item assignment"
          ]
        }
      ]
    },
    {
      "cell_type": "markdown",
      "source": [
        "# Q43. Can two tuple be appended. If yes, write a code for it. If not, why?"
      ],
      "metadata": {
        "id": "i1Fpqu_mwEa4"
      }
    },
    {
      "cell_type": "code",
      "source": [
        "# Tuple only have two buit-in methods i,e count and index. It doesn't have append function to perform an appending.\n",
        "\n",
        "\n",
        "mytuple1 = (\"Hello\", 1,2)\n",
        "\n",
        "#Append\n",
        "mytuple1.append(3) # Error: 'tuple' object has no attribute 'append'\n",
        "\n",
        "# Tuple Concatention can be done\n",
        "mytuple2 = (3,4,5)\n",
        "\n",
        "tuples = (mytuple1 + mytuple2)\n",
        "print(tuples)"
      ],
      "metadata": {
        "colab": {
          "base_uri": "https://localhost:8080/",
          "height": 241
        },
        "id": "bpDhvlFUxTan",
        "outputId": "4b88730c-9e57-4624-e639-017ca4da6263"
      },
      "execution_count": null,
      "outputs": [
        {
          "output_type": "error",
          "ename": "AttributeError",
          "evalue": "ignored",
          "traceback": [
            "\u001b[0;31m---------------------------------------------------------------------------\u001b[0m",
            "\u001b[0;31mAttributeError\u001b[0m                            Traceback (most recent call last)",
            "\u001b[0;32m<ipython-input-20-57083b818cae>\u001b[0m in \u001b[0;36m<module>\u001b[0;34m\u001b[0m\n\u001b[1;32m      5\u001b[0m \u001b[0;34m\u001b[0m\u001b[0m\n\u001b[1;32m      6\u001b[0m \u001b[0;31m#Append\u001b[0m\u001b[0;34m\u001b[0m\u001b[0;34m\u001b[0m\u001b[0;34m\u001b[0m\u001b[0m\n\u001b[0;32m----> 7\u001b[0;31m \u001b[0mmytuple1\u001b[0m\u001b[0;34m.\u001b[0m\u001b[0mappend\u001b[0m\u001b[0;34m(\u001b[0m\u001b[0;36m3\u001b[0m\u001b[0;34m)\u001b[0m \u001b[0;31m# Error: 'tuple' object has no attribute 'append'\u001b[0m\u001b[0;34m\u001b[0m\u001b[0;34m\u001b[0m\u001b[0m\n\u001b[0m\u001b[1;32m      8\u001b[0m \u001b[0;34m\u001b[0m\u001b[0m\n\u001b[1;32m      9\u001b[0m \u001b[0;31m#Concatention\u001b[0m\u001b[0;34m\u001b[0m\u001b[0;34m\u001b[0m\u001b[0;34m\u001b[0m\u001b[0m\n",
            "\u001b[0;31mAttributeError\u001b[0m: 'tuple' object has no attribute 'append'"
          ]
        }
      ]
    },
    {
      "cell_type": "markdown",
      "source": [
        "# Q44. Take a tuple as an input and print the count of elements in it."
      ],
      "metadata": {
        "id": "jNK9UlZ8yLxs"
      }
    },
    {
      "cell_type": "code",
      "source": [
        "# Tuple\n",
        "mytuples = input(\"Enter the values seperated by commans ,: \").split(\",\")\n",
        "tuple1 = tuple(mytuples)\n",
        "\n",
        "print(tuple1)\n",
        "print(type(tuple1))\n",
        "\n",
        "#Count function\n",
        "tuple2 = (1,2,3,4,1,2)\n",
        "print(tuple2.count(2))\n",
        "\n"
      ],
      "metadata": {
        "colab": {
          "base_uri": "https://localhost:8080/"
        },
        "id": "2sUG_jy5yT8l",
        "outputId": "b7ce32a5-9c93-4730-b61b-e9822867983b"
      },
      "execution_count": null,
      "outputs": [
        {
          "output_type": "stream",
          "name": "stdout",
          "text": [
            "Enter the values seperated by commans ,: Hello,1,2,3\n",
            "('Hello', '1', '2', '3')\n",
            "<class 'tuple'>\n",
            "2\n"
          ]
        }
      ]
    },
    {
      "cell_type": "markdown",
      "source": [
        "# Q45. What are sets in Python?"
      ],
      "metadata": {
        "id": "B4-YTJrC6Vu7"
      }
    },
    {
      "cell_type": "markdown",
      "source": [
        "Sets represented in {} and elements in sets seperated by comma(,). It is unordered collection of data type.\n",
        "Set will not store & display the duplicate elments\n",
        "\n"
      ],
      "metadata": {
        "id": "r5tPw-EcGnTT"
      }
    },
    {
      "cell_type": "markdown",
      "source": [
        "# Q46. How can you create a set?"
      ],
      "metadata": {
        "id": "gvO05jgVGiAE"
      }
    },
    {
      "cell_type": "code",
      "source": [
        "set1 = {'apple','bananna','cherry','cherry'}\n",
        "\n",
        "print(set1)"
      ],
      "metadata": {
        "colab": {
          "base_uri": "https://localhost:8080/"
        },
        "id": "htcr8btlGtyM",
        "outputId": "0c4f8b08-0e57-47c7-afb8-0d94ddfb855b"
      },
      "execution_count": null,
      "outputs": [
        {
          "output_type": "stream",
          "name": "stdout",
          "text": [
            "{'bananna', 'cherry', 'apple'}\n"
          ]
        }
      ]
    },
    {
      "cell_type": "markdown",
      "source": [
        "# Q47. Create a set and add \"iNeuron\" in your set."
      ],
      "metadata": {
        "id": "fKr-spVEG4AM"
      }
    },
    {
      "cell_type": "code",
      "source": [
        "myset = {\"Welcome\", \"come\", 2}\n",
        "myset.add(\"iNeuron\") # set is unordered and it will get added in any position in sets\n",
        "print(myset)"
      ],
      "metadata": {
        "colab": {
          "base_uri": "https://localhost:8080/"
        },
        "id": "9pxPGIfzG86L",
        "outputId": "a01da38a-8e5b-4d5e-ca2d-3739da7cd19d"
      },
      "execution_count": null,
      "outputs": [
        {
          "output_type": "stream",
          "name": "stdout",
          "text": [
            "{'Welcome', 'iNeuron', 2, 'come'}\n"
          ]
        }
      ]
    },
    {
      "cell_type": "markdown",
      "source": [
        "# Q48. Try to add multiple values using add() function."
      ],
      "metadata": {
        "id": "8wrU8fldH6MI"
      }
    },
    {
      "cell_type": "code",
      "source": [
        "myset = {1,2,3}\n",
        "mytup = (4,5,6)\n",
        "\n",
        "myset.add(mytup)\n",
        "\n",
        "print(myset)"
      ],
      "metadata": {
        "colab": {
          "base_uri": "https://localhost:8080/"
        },
        "id": "mIVcMYlbH95u",
        "outputId": "eca7572e-0ecb-47f0-b59c-0fdbfa69d083"
      },
      "execution_count": null,
      "outputs": [
        {
          "output_type": "stream",
          "name": "stdout",
          "text": [
            "{1, 2, 3, (4, 5, 6)}\n"
          ]
        }
      ]
    },
    {
      "cell_type": "markdown",
      "source": [
        "# Q49. How is update() different from add()?"
      ],
      "metadata": {
        "id": "7N4rdgpJK4CU"
      }
    },
    {
      "cell_type": "code",
      "source": [
        "# set.add - adds an individula element to the set\n",
        "a = {1,2,3}\n",
        "a.add(4)\n",
        "print(a)\n",
        "\n",
        "# if we try to add mutliple values using add it FAILS\n",
        "# a.add(5,6) # boz it take exactly one argument\n",
        "\n",
        "# set.update - we can pass multiple iterables to it\n",
        "a.update([5,6])\n",
        "print(a)\n",
        "\n",
        "print(type(a))\n"
      ],
      "metadata": {
        "colab": {
          "base_uri": "https://localhost:8080/"
        },
        "id": "VdmQBRBvK-gE",
        "outputId": "3d99fcbe-a695-4398-8196-102cb246a209"
      },
      "execution_count": null,
      "outputs": [
        {
          "output_type": "stream",
          "name": "stdout",
          "text": [
            "{1, 2, 3, 4}\n",
            "{1, 2, 3, 4, 5, 6}\n",
            "<class 'set'>\n"
          ]
        }
      ]
    },
    {
      "cell_type": "markdown",
      "source": [
        "# Q50. What is clear() in sets?"
      ],
      "metadata": {
        "id": "CBTfgf_sMWGR"
      }
    },
    {
      "cell_type": "code",
      "source": [
        "# set clear() function, it clear all the elements in the sets\n",
        "\n",
        "myset = {1,2,3,'Hello',True}\n",
        "print(myset)\n",
        "myset.clear()\n",
        "print(myset)"
      ],
      "metadata": {
        "colab": {
          "base_uri": "https://localhost:8080/"
        },
        "id": "IsPib-C0MbGQ",
        "outputId": "e56621a7-021c-47b5-da1c-a21432dedb51"
      },
      "execution_count": null,
      "outputs": [
        {
          "output_type": "stream",
          "name": "stdout",
          "text": [
            "{1, 2, 3, 'Hello'}\n",
            "set()\n"
          ]
        }
      ]
    },
    {
      "cell_type": "markdown",
      "source": [
        "# Q51. What is frozen set?"
      ],
      "metadata": {
        "id": "qRmaHwbBM790"
      }
    },
    {
      "cell_type": "markdown",
      "source": [
        "The frozenset() function returns an immutable frozenset object initialized with elements from the given iterable.\n",
        "\n",
        "Frozen set is immutable set for Python set object. \n",
        "While elements of a set can be modified at any time, elements of the frozen set remain the same after creation."
      ],
      "metadata": {
        "id": "1FZ-gt9CPPKG"
      }
    },
    {
      "cell_type": "markdown",
      "source": [
        "# Q52. How is frozen set different from set?"
      ],
      "metadata": {
        "id": "m3Ejg7q2PJXZ"
      }
    },
    {
      "cell_type": "code",
      "source": [
        "'''\n",
        "Frozen set is immutable set for Python set object and doesn't have builtin function add n update methods\n",
        "set is mutable object\n",
        "'''\n",
        "#set\n",
        "myset = {1,2,3}\n",
        "# mutable\n",
        "myset.add(4)\n",
        "myset\n",
        "\n",
        "# Frozenset\n",
        "frozset = frozenset(myset)\n",
        "frozset.add(5)"
      ],
      "metadata": {
        "colab": {
          "base_uri": "https://localhost:8080/",
          "height": 205
        },
        "id": "7tvM6FBLPWBd",
        "outputId": "531f3237-f9d7-4bc8-edaa-082fe660cf11"
      },
      "execution_count": null,
      "outputs": [
        {
          "output_type": "error",
          "ename": "AttributeError",
          "evalue": "ignored",
          "traceback": [
            "\u001b[0;31m---------------------------------------------------------------------------\u001b[0m",
            "\u001b[0;31mAttributeError\u001b[0m                            Traceback (most recent call last)",
            "\u001b[0;32m<ipython-input-70-bef92723437d>\u001b[0m in \u001b[0;36m<module>\u001b[0;34m\u001b[0m\n\u001b[1;32m     11\u001b[0m \u001b[0;31m# Frozenset\u001b[0m\u001b[0;34m\u001b[0m\u001b[0;34m\u001b[0m\u001b[0;34m\u001b[0m\u001b[0m\n\u001b[1;32m     12\u001b[0m \u001b[0mfrozset\u001b[0m \u001b[0;34m=\u001b[0m \u001b[0mfrozenset\u001b[0m\u001b[0;34m(\u001b[0m\u001b[0mmyset\u001b[0m\u001b[0;34m)\u001b[0m\u001b[0;34m\u001b[0m\u001b[0;34m\u001b[0m\u001b[0m\n\u001b[0;32m---> 13\u001b[0;31m \u001b[0mfrozset\u001b[0m\u001b[0;34m.\u001b[0m\u001b[0madd\u001b[0m\u001b[0;34m(\u001b[0m\u001b[0;36m5\u001b[0m\u001b[0;34m)\u001b[0m\u001b[0;34m\u001b[0m\u001b[0;34m\u001b[0m\u001b[0m\n\u001b[0m",
            "\u001b[0;31mAttributeError\u001b[0m: 'frozenset' object has no attribute 'add'"
          ]
        }
      ]
    },
    {
      "cell_type": "markdown",
      "source": [
        "# Q53. What is union() in sets? Explain via code."
      ],
      "metadata": {
        "id": "WOrobSuxPl6K"
      }
    },
    {
      "cell_type": "code",
      "source": [
        "# The Python set union() method returns a new set with distinct elements from all the sets\n",
        "myset1 = {1,2,3,4}\n",
        "myset2 = {4,5,6,5,6}\n",
        "\n",
        "myset3 = myset1.union(myset2)\n",
        "print(myset3)"
      ],
      "metadata": {
        "colab": {
          "base_uri": "https://localhost:8080/"
        },
        "id": "t_Hjtos7P1Uq",
        "outputId": "22e608c5-4118-4c66-9f41-d0142f2ed697"
      },
      "execution_count": null,
      "outputs": [
        {
          "output_type": "stream",
          "name": "stdout",
          "text": [
            "{1, 2, 3, 4, 5, 6}\n"
          ]
        }
      ]
    },
    {
      "cell_type": "markdown",
      "source": [
        "# Q54. What is intersection() in sets? Explain via code."
      ],
      "metadata": {
        "id": "-hqBj-SrQd2T"
      }
    },
    {
      "cell_type": "code",
      "source": [
        "# The intersection() method returns a set that contains the similarity between sets.\n",
        "\n",
        "myset1 = {1,2,3,4}\n",
        "myset2 = {4,5,6}\n",
        "\n",
        "mysetinter = myset1.intersection(myset2)\n",
        "mysetinter"
      ],
      "metadata": {
        "colab": {
          "base_uri": "https://localhost:8080/"
        },
        "id": "_BuFZFxLQhMz",
        "outputId": "1ff535e1-22c8-4929-a690-b257542f1651"
      },
      "execution_count": null,
      "outputs": [
        {
          "output_type": "execute_result",
          "data": {
            "text/plain": [
              "{4}"
            ]
          },
          "metadata": {},
          "execution_count": 79
        }
      ]
    },
    {
      "cell_type": "markdown",
      "source": [
        "# Q55. What is dictionary in Python?"
      ],
      "metadata": {
        "id": "mlfgBZ4SRafm"
      }
    },
    {
      "cell_type": "markdown",
      "source": [
        "- Python dictionary is an unordered collection of items and elements are used to store data values in key & value pairs. \n",
        "- Python dictionary represented in curly braces {}. \n",
        "- dictinoary keys can be created using string and numbers, but not tuple,sets, list\n",
        "- dictionary not allow for duplicates keys and items are unordered and mutable\n",
        "- dictionary keys are case senstive\n",
        "\n",
        "Examples\n",
        "\n"
      ],
      "metadata": {
        "id": "A1sF8h5xRhPF"
      }
    },
    {
      "cell_type": "code",
      "source": [
        "mydict = {\n",
        "    'name' : 'Joy',\n",
        "    'Name' : 'kumar',\n",
        "    'name' : 'ab'\n",
        "          }\n",
        "mydict"
      ],
      "metadata": {
        "colab": {
          "base_uri": "https://localhost:8080/"
        },
        "id": "t_5ecGeMS-kQ",
        "outputId": "6682049f-3ad0-407a-c8ca-5eb5c6fa78ae"
      },
      "execution_count": null,
      "outputs": [
        {
          "output_type": "execute_result",
          "data": {
            "text/plain": [
              "{'name': 'ab', 'Name': 'kumar'}"
            ]
          },
          "metadata": {},
          "execution_count": 84
        }
      ]
    },
    {
      "cell_type": "markdown",
      "source": [
        "# Q56. How is dictionary different from all other data structures."
      ],
      "metadata": {
        "id": "0SOT0HV3T8Hj"
      }
    },
    {
      "cell_type": "markdown",
      "source": [
        "- **Lists:** are just like dynamic sized arrays, declared in other languages (vector in C++ and ArrayList in Java). Lists need not be homogeneous always which makes it the most powerful tool in Python.\n",
        "\n",
        "- **Tuple:** A Tuple is a collection of Python objects separated by commas. In some ways, a tuple is similar to a list in terms of indexing, nested objects, and repetition but a tuple is immutable, unlike lists that are mutable.\n",
        "\n",
        "- **Set:** A Set is an unordered collection data type that is iterable, mutable, and has no duplicate elements. Python’s set class represents the mathematical notion of a set.\n",
        "\n",
        "- **Dictionary:** in Python is an ordered (since Py 3.7) and unordered in (Py 3.6 & prior) collection of data values, used to store data values like a map, which, unlike other Data Types that hold only a single value as an element, Dictionary holds key:value pair. Key-value is provided in the dictionary to make it more optimized."
      ],
      "metadata": {
        "id": "xs9FKMlfWKBO"
      }
    },
    {
      "cell_type": "markdown",
      "source": [
        "# Q57. How can we delare a dictionary in Python?"
      ],
      "metadata": {
        "id": "wzwM6KpOWgoZ"
      }
    },
    {
      "cell_type": "code",
      "source": [
        "mydict = {\n",
        "    'name' : 'Joy',\n",
        "    'Name' : 'kumar',\n",
        "    'name' : 'ab'\n",
        "          }\n",
        "print(mydict)\n",
        "print(type(mydict))"
      ],
      "metadata": {
        "colab": {
          "base_uri": "https://localhost:8080/"
        },
        "id": "hl5x5a17Wq5k",
        "outputId": "5c458a54-c46f-4c33-c562-c7c2252c8f30"
      },
      "execution_count": null,
      "outputs": [
        {
          "output_type": "stream",
          "name": "stdout",
          "text": [
            "{'name': 'ab', 'Name': 'kumar'}\n",
            "<class 'dict'>\n"
          ]
        }
      ]
    },
    {
      "cell_type": "markdown",
      "source": [
        "# Q58. What will the output of the following?\n",
        "var = {}\n",
        "print(type(var))"
      ],
      "metadata": {
        "id": "6zcfz1s9W2Md"
      }
    },
    {
      "cell_type": "code",
      "source": [
        "var = {} # Empty dictionary\n",
        "print(type(var)) "
      ],
      "metadata": {
        "colab": {
          "base_uri": "https://localhost:8080/"
        },
        "id": "MFdkhRqkW9J5",
        "outputId": "19ff27ed-335b-45ad-93bc-7293e046174d"
      },
      "execution_count": null,
      "outputs": [
        {
          "output_type": "stream",
          "name": "stdout",
          "text": [
            "<class 'dict'>\n"
          ]
        }
      ]
    },
    {
      "cell_type": "markdown",
      "source": [
        "# Q59. How can we add an element in a dictionary?"
      ],
      "metadata": {
        "id": "yjnPVdFPXHed"
      }
    },
    {
      "cell_type": "code",
      "source": [
        "mydict = {\n",
        "    'name' : 'JoyJoy',\n",
        "    'age' : 19\n",
        "    }\n",
        "mydict['country'] = 'usa'\n",
        "mydict"
      ],
      "metadata": {
        "colab": {
          "base_uri": "https://localhost:8080/"
        },
        "id": "xsl1NrAjXNSN",
        "outputId": "8384247c-2a7c-4a92-9c2a-90b848eec76b"
      },
      "execution_count": null,
      "outputs": [
        {
          "output_type": "execute_result",
          "data": {
            "text/plain": [
              "{'name': 'JoyJoy', 'age': 19, 'country': 'usa'}"
            ]
          },
          "metadata": {},
          "execution_count": 94
        }
      ]
    },
    {
      "cell_type": "markdown",
      "source": [
        "# Q60. Create a dictionary and access all the values in that dictionary."
      ],
      "metadata": {
        "id": "ZJFKXg8_X8b4"
      }
    },
    {
      "cell_type": "code",
      "source": [
        "dict1 = {\n",
        "    'name' : 'JoyJoy',\n",
        "    'age' : 19,\n",
        "    'country' : 'USA',\n",
        "    'skiils' :{'Python', 'Hadoop' ,'Bash'}\n",
        "    }\n",
        "\n",
        "dict1\n",
        "\n",
        "for v in dict1.values():\n",
        "  print(\"values of dict1 :\",v)\n",
        "  "
      ],
      "metadata": {
        "colab": {
          "base_uri": "https://localhost:8080/"
        },
        "id": "zqFSswQnX_jn",
        "outputId": "4654f942-a551-4938-81d6-3fc048f763d6"
      },
      "execution_count": null,
      "outputs": [
        {
          "output_type": "stream",
          "name": "stdout",
          "text": [
            "values of dict1 : JoyJoy\n",
            "values of dict1 : 19\n",
            "values of dict1 : USA\n",
            "values of dict1 : {'Bash', 'Hadoop', 'Python'}\n"
          ]
        }
      ]
    },
    {
      "cell_type": "markdown",
      "source": [
        "# Q61. Create a nested dictionary and access all the element in the inner dictionary."
      ],
      "metadata": {
        "id": "ZZQFjgDKY9ih"
      }
    },
    {
      "cell_type": "code",
      "source": [
        "nested_dict = {\n",
        "    1 : {'name' : 'JoyJoy', 'age' : 19,'country' :'USA'},\n",
        "    2 : {'name' : 'Kumar', 'age' : 17, 'country' :'UK'}\n",
        "    }\n",
        "\n",
        "#Print complete dictionary elements\n",
        "print(nested_dict,'\\n')\n",
        "\n",
        "# Iterate throw dictinary and print only values of keys\n",
        "for k,v in nested_dict.items():\n",
        "  print(v)\n",
        "\n",
        "#print specific key of name item\n",
        "print('\\n',nested_dict[1]['name'])"
      ],
      "metadata": {
        "colab": {
          "base_uri": "https://localhost:8080/"
        },
        "id": "UpsPIFDmZEgy",
        "outputId": "86878775-c641-464c-91af-ac43064fd69c"
      },
      "execution_count": null,
      "outputs": [
        {
          "output_type": "stream",
          "name": "stdout",
          "text": [
            "{1: {'name': 'JoyJoy', 'age': 19, 'country': 'USA'}, 2: {'name': 'Kumar', 'age': 17, 'country': 'UK'}} \n",
            "\n",
            "{'name': 'JoyJoy', 'age': 19, 'country': 'USA'}\n",
            "{'name': 'Kumar', 'age': 17, 'country': 'UK'}\n",
            "\n",
            " JoyJoy\n"
          ]
        }
      ]
    },
    {
      "cell_type": "markdown",
      "source": [
        "# Q62. What is the use of get() function?"
      ],
      "metadata": {
        "id": "fPcQJRiVbPr7"
      }
    },
    {
      "cell_type": "code",
      "source": [
        "#  Python Dictionary get() Method return the value for the given key, if present in the dictionary.\n",
        "\n",
        "nested_dict = {\n",
        "    1 : {'name' : 'JoyJoy', 'age' : 19,'country' :'USA'},\n",
        "    2 : {'name' : 'Kumar', 'age' : 17, 'country' :'UK'}\n",
        "    }\n",
        "\n",
        "print(nested_dict.get(2))"
      ],
      "metadata": {
        "colab": {
          "base_uri": "https://localhost:8080/"
        },
        "id": "ktZsvsKHbVq2",
        "outputId": "5dfbbfc1-e802-4e70-b134-5003962cfa00"
      },
      "execution_count": null,
      "outputs": [
        {
          "output_type": "stream",
          "name": "stdout",
          "text": [
            "{'name': 'Kumar', 'age': 17, 'country': 'UK'}\n"
          ]
        }
      ]
    },
    {
      "cell_type": "markdown",
      "source": [
        "# Q63. What is the use of items() function?"
      ],
      "metadata": {
        "id": "zNo8NM9AJqYR"
      }
    },
    {
      "cell_type": "code",
      "source": [
        "# dictionary items() function will retrive both key & values of a given dictionary in tuple pair\n",
        "\n",
        "dict1 = {\n",
        "    'message' : \"Good Morning\",\n",
        "    'Date' : '11/14/2022',\n",
        "    'Time' : '05:00 AM IST'\n",
        "\n",
        "    }\n",
        "\n",
        "print(dict1.items())"
      ],
      "metadata": {
        "colab": {
          "base_uri": "https://localhost:8080/"
        },
        "id": "VM_LxgOBJzws",
        "outputId": "3af2e8ed-201c-46ba-8080-353a068c9df7"
      },
      "execution_count": null,
      "outputs": [
        {
          "output_type": "stream",
          "name": "stdout",
          "text": [
            "dict_items([('message', 'Good Morning'), ('Date', '11/14/2022'), ('Time', '05:00 AM IST')])\n"
          ]
        }
      ]
    },
    {
      "cell_type": "markdown",
      "source": [
        "# Q64. What is the use of pop() function?\n",
        "\n"
      ],
      "metadata": {
        "id": "L-xsgQVaK7kx"
      }
    },
    {
      "cell_type": "code",
      "source": [
        "# The pop() method removes and returns an value element from a dictionary having the given key.\n",
        "\n",
        "dict2 = {\n",
        "    'message' : \"Good Morning\",\n",
        "    'Date' : '11/14/2022',\n",
        "    'Time' : '05:00 AM IST'\n",
        "\n",
        "    }\n",
        "\n",
        "print(dict2.pop('Time'))\n",
        "print(dict2)"
      ],
      "metadata": {
        "colab": {
          "base_uri": "https://localhost:8080/"
        },
        "id": "fNDN7MvcLAeo",
        "outputId": "3310b95c-6661-4921-c015-d9c097a917a4"
      },
      "execution_count": null,
      "outputs": [
        {
          "output_type": "stream",
          "name": "stdout",
          "text": [
            "05:00 AM IST\n",
            "{'message': 'Good Morning', 'Date': '11/14/2022'}\n"
          ]
        }
      ]
    },
    {
      "cell_type": "markdown",
      "source": [
        "# Q65. What is the use of popitems() function?"
      ],
      "metadata": {
        "id": "8IqO9zBXL0ia"
      }
    },
    {
      "cell_type": "code",
      "source": [
        "# Dictionary popitem() method removes the last inserted key-value pair from the dictionary and returns it as a tuple.\n",
        "\n",
        "dict = {\n",
        "    'message' : \"Good Morning\",\n",
        "    'Date' : '11/14/2022',\n",
        "    'Time' : '05:00 AM IST'\n",
        "\n",
        "    }\n",
        "\n",
        "print(dict.popitem())\n",
        "print(dict)"
      ],
      "metadata": {
        "colab": {
          "base_uri": "https://localhost:8080/"
        },
        "id": "xMFbiDcZMKS0",
        "outputId": "ffb3d6e1-ef45-4026-d6ee-0b9a1bfa0762"
      },
      "execution_count": null,
      "outputs": [
        {
          "output_type": "stream",
          "name": "stdout",
          "text": [
            "('Time', '05:00 AM IST')\n",
            "{'message': 'Good Morning', 'Date': '11/14/2022'}\n"
          ]
        }
      ]
    },
    {
      "cell_type": "markdown",
      "source": [
        "# Q66. What is the use of keys() function?"
      ],
      "metadata": {
        "id": "pwLGSbWIMe6d"
      }
    },
    {
      "cell_type": "code",
      "source": [
        "# Dictionary keys() function to retreive all keys from the specified dictionary data structure.\n",
        "\n",
        "dict = {\n",
        "    'message' : \"Good Morning\",\n",
        "    'Date' : '11/14/2022',\n",
        "    'Time' : '05:00 AM IST'\n",
        "\n",
        "    }\n",
        "\n",
        "print(dict.keys())"
      ],
      "metadata": {
        "colab": {
          "base_uri": "https://localhost:8080/"
        },
        "id": "uSSqtmr8Mji9",
        "outputId": "bc8f4eb6-032f-4552-92c6-3fff7069e892"
      },
      "execution_count": null,
      "outputs": [
        {
          "output_type": "stream",
          "name": "stdout",
          "text": [
            "dict_keys(['message', 'Date', 'Time'])\n"
          ]
        }
      ]
    },
    {
      "cell_type": "markdown",
      "source": [
        "# Q67. What is the use of values() function?"
      ],
      "metadata": {
        "id": "5ygFUHZqM6ry"
      }
    },
    {
      "cell_type": "code",
      "source": [
        "# Dictionary values() function to retrive the values from specified dictionary data type.\n",
        "\n",
        "mydict = {'name' : 'JoyJoy','age' : 19, 'country' : 'India'}\n",
        "\n",
        "print(mydict.values())"
      ],
      "metadata": {
        "colab": {
          "base_uri": "https://localhost:8080/"
        },
        "id": "DaiM6wnJM8mu",
        "outputId": "30822589-010c-4609-e8e5-83850ce524f7"
      },
      "execution_count": null,
      "outputs": [
        {
          "output_type": "stream",
          "name": "stdout",
          "text": [
            "dict_values(['JoyJoy', 19, 'India'])\n"
          ]
        }
      ]
    },
    {
      "cell_type": "markdown",
      "source": [
        "# Q68. What are loops in Python?"
      ],
      "metadata": {
        "id": "7-Vzlto7NXSq"
      }
    },
    {
      "cell_type": "markdown",
      "source": [
        "Python for loops are used to loop through an iterable object and perform the some action until certain gets True."
      ],
      "metadata": {
        "id": "NyYYkV4LOHMJ"
      }
    },
    {
      "cell_type": "markdown",
      "source": [
        "# Q69. How many type of loop are there in Python?"
      ],
      "metadata": {
        "id": "OJgW-aUuOWeP"
      }
    },
    {
      "cell_type": "markdown",
      "source": [
        "There are 3 types of loops in Python\n",
        "\n",
        "- for loop\n",
        "- while loop\n",
        "- nested loop"
      ],
      "metadata": {
        "id": "yB0WDSqcOpzk"
      }
    },
    {
      "cell_type": "markdown",
      "source": [
        "# Q70. What is the difference between for and while loops?"
      ],
      "metadata": {
        "id": "fy6BvCkNO7SJ"
      }
    },
    {
      "cell_type": "markdown",
      "source": [
        "- For loop is used to iterate over elements of a sequence. It is often used when you have a piece of code which you want to repeat “n” number of time.\n",
        "\n",
        "- While Loop is used to repeat a block of code. Instead of running the code block once, It executes the code block multiple times until a certain condition is met."
      ],
      "metadata": {
        "id": "3wEPERrbO_Y4"
      }
    },
    {
      "cell_type": "markdown",
      "source": [
        "# Q71. What is the use of continue statement?"
      ],
      "metadata": {
        "id": "V7Nf-um_Qli0"
      }
    },
    {
      "cell_type": "code",
      "source": [
        "# The continue statement is used to skip the rest of the code inside a loop for the current iteration only. \n",
        "# Loop does not terminate but continues on with the next iteration.\n",
        "\n",
        "for i in range(5):\n",
        "  if i == 2: # skip\n",
        "    continue\n",
        "  print(i)\n"
      ],
      "metadata": {
        "colab": {
          "base_uri": "https://localhost:8080/"
        },
        "id": "9HAIeZX_Qon0",
        "outputId": "d8bafa4a-ff10-479a-e646-96c7e5135867"
      },
      "execution_count": null,
      "outputs": [
        {
          "output_type": "stream",
          "name": "stdout",
          "text": [
            "0\n",
            "1\n",
            "3\n",
            "4\n"
          ]
        }
      ]
    },
    {
      "cell_type": "markdown",
      "source": [
        "# Q72. What is the use of break statement?"
      ],
      "metadata": {
        "id": "-wdIA6XDSQ8-"
      }
    },
    {
      "cell_type": "code",
      "source": [
        "# Python break statement terminates the loop and Control of the program flows to the statement immediately after the body of the loop.\n",
        "\n",
        "for i in range(5):\n",
        "  if i == 3:\n",
        "    break\n",
        "  print(i)\n",
        "\n",
        "print(\"break statement\")"
      ],
      "metadata": {
        "colab": {
          "base_uri": "https://localhost:8080/"
        },
        "id": "d3UYVJ6ESUcs",
        "outputId": "d5ceb498-4175-4a67-f042-0df87e83b99b"
      },
      "execution_count": null,
      "outputs": [
        {
          "output_type": "stream",
          "name": "stdout",
          "text": [
            "0\n",
            "1\n",
            "2\n",
            "break statement\n"
          ]
        }
      ]
    },
    {
      "cell_type": "markdown",
      "source": [
        "# Q73. What is the use of pass statement?"
      ],
      "metadata": {
        "id": "mjjFOZDUS5Cz"
      }
    },
    {
      "cell_type": "code",
      "source": [
        "# pass statement is used as a placeholder for future code.\n",
        "# When the pass statment is executed, nothing happens but avaoiding getting an eror when empty code is not allowed\n",
        "\n",
        "def myfunc():\n",
        "  pass"
      ],
      "metadata": {
        "id": "jc9p7GFLTMNS"
      },
      "execution_count": null,
      "outputs": []
    },
    {
      "cell_type": "markdown",
      "source": [
        "# Q74. What is the use of range() function?"
      ],
      "metadata": {
        "id": "G8aVgtl_TlCg"
      }
    },
    {
      "cell_type": "code",
      "source": [
        "# range() function returns a sequence of numbers in a given range.\n",
        "\n",
        "for i in range(1,6):\n",
        "  print(i)\n"
      ],
      "metadata": {
        "colab": {
          "base_uri": "https://localhost:8080/"
        },
        "id": "BGQT3a-NTxTt",
        "outputId": "0cc8c8eb-5cb0-468e-b9d5-031267e7baf2"
      },
      "execution_count": null,
      "outputs": [
        {
          "output_type": "stream",
          "name": "stdout",
          "text": [
            "1\n",
            "2\n",
            "3\n",
            "4\n",
            "5\n"
          ]
        }
      ]
    },
    {
      "cell_type": "markdown",
      "source": [
        "# Q75. How can you loop over a dictionary?"
      ],
      "metadata": {
        "id": "P-6bc1oXUUkJ"
      }
    },
    {
      "cell_type": "code",
      "source": [
        "mydict = {\"name\" : 'Joy', 'age' : 19, 'Education' : 'BE', 'color' : 'Black', 'marks' : 50}\n",
        "\n",
        "for k, v in mydict.items():\n",
        "  print(\"Dictionary Keys :\", k)\n",
        "  print(\"Dictionary values:\", v)"
      ],
      "metadata": {
        "colab": {
          "base_uri": "https://localhost:8080/"
        },
        "id": "z832mDHXUZIn",
        "outputId": "baf6059d-d717-4f1a-b8b3-6111d05cacfe"
      },
      "execution_count": null,
      "outputs": [
        {
          "output_type": "stream",
          "name": "stdout",
          "text": [
            "Dictionary Keys : name\n",
            "Dictionary values: Joy\n",
            "Dictionary Keys : age\n",
            "Dictionary values: 19\n",
            "Dictionary Keys : Education\n",
            "Dictionary values: BE\n",
            "Dictionary Keys : color\n",
            "Dictionary values: Black\n",
            "Dictionary Keys : marks\n",
            "Dictionary values: 50\n"
          ]
        }
      ]
    },
    {
      "cell_type": "markdown",
      "source": [
        "# **Coding problems**"
      ],
      "metadata": {
        "id": "eh4y7KMWFwuu"
      }
    },
    {
      "cell_type": "markdown",
      "source": [
        "# Q76. Write a Python program to find the factorial of a given number."
      ],
      "metadata": {
        "id": "A7ybAzSrGGB9"
      }
    },
    {
      "cell_type": "code",
      "source": [
        "import math\n",
        "\n",
        "num = int(input(\"Enter the number to find the factorial of it: \"))\n",
        "\n",
        "fact = math.factorial(num)\n",
        "\n",
        "print(f\"The factorial of given number {num} is {fact}\")\n"
      ],
      "metadata": {
        "colab": {
          "base_uri": "https://localhost:8080/"
        },
        "id": "7m7Pgb-fM2gQ",
        "outputId": "54e5c96b-27da-42e0-8bd8-352144b40675"
      },
      "execution_count": null,
      "outputs": [
        {
          "output_type": "stream",
          "name": "stdout",
          "text": [
            "Enter the number to find the factorial of it: 3\n",
            "The factorial of given number 3 is 6\n"
          ]
        }
      ]
    },
    {
      "cell_type": "code",
      "source": [
        "n = int(input(\"Enter the number to find the factorial of it: \"))\n",
        "\n",
        "factorial = 1\n",
        "\n",
        "if n < 0:\n",
        "  print(\"Factorial cannot be calculated for non-integer input\")\n",
        "elif n == 0:\n",
        "  print(\"Factorial of the number is 1\")\n",
        "else:\n",
        "  for i in range(1,n+1):\n",
        "    factorial = factorial * i\n",
        "  print(f\"Factorial of the given number {n} is {factorial}\")"
      ],
      "metadata": {
        "colab": {
          "base_uri": "https://localhost:8080/"
        },
        "id": "_TnbtqD5OaXW",
        "outputId": "68771cb5-8240-4ae5-85c5-400b93fa7dce"
      },
      "execution_count": null,
      "outputs": [
        {
          "output_type": "stream",
          "name": "stdout",
          "text": [
            "Enter the number to find the factorial of it: 5\n",
            "Factorial of the given number 5 is 120\n"
          ]
        }
      ]
    },
    {
      "cell_type": "markdown",
      "source": [
        "# Q77. Write a Python program to calculate the simple interest. Formula to calculate simple interest is SI = (PRT)/100"
      ],
      "metadata": {
        "id": "er0N5KaCPrIy"
      }
    },
    {
      "cell_type": "code",
      "source": [
        "#SI = (PRT)/100\n",
        "#Enter the Amount\n",
        "amount = int(input(\"Enter the amount to find the interest: \"))\n",
        "\n",
        "# Enter the number of years\n",
        "year = 1\n",
        "\n",
        "# Enter the rate of interest\n",
        "interest = 7\n",
        "\n",
        "SI = (amount * year * interest)/100\n",
        "\n",
        "print(f\"The interest rate for the amount {amount} is {SI}\")\n",
        "\n",
        "\n"
      ],
      "metadata": {
        "colab": {
          "base_uri": "https://localhost:8080/"
        },
        "id": "SGxQWFNjP98O",
        "outputId": "5555047a-97de-42d5-c0ff-2e27f8e3e8fb"
      },
      "execution_count": null,
      "outputs": [
        {
          "output_type": "stream",
          "name": "stdout",
          "text": [
            "Enter the amount to find the interest: 100000\n",
            "The interest rate for the amount 100000 is 7000.0\n"
          ]
        }
      ]
    },
    {
      "cell_type": "markdown",
      "source": [
        "# Q78. Write a Python program to calculate the compound interest. Formula of compound interest is A = P(1+ R/100)^t.\n"
      ],
      "metadata": {
        "id": "NvGL1G7HRjB5"
      }
    },
    {
      "cell_type": "code",
      "source": [
        "import math\n",
        "\n",
        "def compound_interest(p_amount,time,rate):\n",
        "  amount = p_amount*(math.pow((1+ (rate/100)),time))\n",
        "  print(\"Compound Amount: \", amount)\n",
        "  CI = amount - p_amount\n",
        "  return CI\n",
        "\n",
        "p_amount = float(input(\"Enter the amount: \"))\n",
        "time = float(input(\"Enter the time period: \"))\n",
        "rate = float(input(\"Enter the interest rate: \"))\n",
        "\n",
        "print(\"Compound interest is:\",compound_interest(p_amount,time,rate))"
      ],
      "metadata": {
        "colab": {
          "base_uri": "https://localhost:8080/"
        },
        "id": "nrXfXqMJSSHp",
        "outputId": "6ad9eb9c-3d52-4ba4-b96c-d55d965f8930"
      },
      "execution_count": null,
      "outputs": [
        {
          "output_type": "stream",
          "name": "stdout",
          "text": [
            "Enter the amount: 100000\n",
            "Enter the time period: 1\n",
            "Enter the interest rate: 9\n",
            "Compound Amount:  109000.00000000001\n",
            "Compound interest is: 9000.000000000015\n"
          ]
        }
      ]
    },
    {
      "cell_type": "markdown",
      "source": [
        "# Q79. Write a Python program to check if a number is prime or not."
      ],
      "metadata": {
        "id": "qtd8j4MjWf0u"
      }
    },
    {
      "cell_type": "code",
      "source": [
        "number = int(input(\"Enter the number: \"))\n",
        "\n",
        "if number > 1:\n",
        "  for i in range(2,int(num/2)+1):\n",
        "    if(num % i) == 0:\n",
        "      print(number,\"is not a prime number\")\n",
        "      break\n",
        "  else:\n",
        "    print(number,\"is a prime number\")\n",
        "else:\n",
        "  print(number,\"is not a prime number\")"
      ],
      "metadata": {
        "colab": {
          "base_uri": "https://localhost:8080/"
        },
        "id": "ayoZrmJwXzl1",
        "outputId": "a5c9a8ec-7c82-47e2-8353-9bd689496bec"
      },
      "execution_count": null,
      "outputs": [
        {
          "output_type": "stream",
          "name": "stdout",
          "text": [
            "Enter the number: 9\n",
            "9 is a prime number\n"
          ]
        }
      ]
    },
    {
      "cell_type": "markdown",
      "source": [
        "# Q80. Write a Python program to check Armstrong Number."
      ],
      "metadata": {
        "id": "8TZKIgjlYajO"
      }
    },
    {
      "cell_type": "code",
      "source": [
        "# input from user\n",
        "number = int(input(\"Enter the number: \"))\n",
        "\n",
        "# initialize the sume\n",
        "sum = 0\n",
        "\n",
        "# sum of cube of each digit\n",
        "\n",
        "cube = number\n",
        "\n",
        "while cube > 0:\n",
        "  digit = cube % 10\n",
        "  sum += digit ** 3\n",
        "  cube //= 10\n",
        "\n",
        "#result\n",
        "if number == sum:\n",
        "  print(\"Number:\",number,\"is an Armstrong number\")\n",
        "else:\n",
        "  print(\"Number:\",number,\"is not an Armstrong number\")\n",
        "\n"
      ],
      "metadata": {
        "colab": {
          "base_uri": "https://localhost:8080/"
        },
        "id": "FDDkpcwrbPV9",
        "outputId": "13d701b1-2ea5-4a63-d5b0-6428bf0224ed"
      },
      "execution_count": null,
      "outputs": [
        {
          "output_type": "stream",
          "name": "stdout",
          "text": [
            "Enter the number: 111\n",
            "Number: 111 is not an Armstrong number\n"
          ]
        }
      ]
    },
    {
      "cell_type": "markdown",
      "source": [
        "# Q81. Write a Python program to find the n-th Fibonacci Number."
      ],
      "metadata": {
        "id": "qrgkzpzRca5b"
      }
    },
    {
      "cell_type": "code",
      "source": [
        "# function recurrsion\n",
        "def fib_num(n):\n",
        "   if n<=0:\n",
        "      print(\"Fibonacci can't be computed\")\n",
        "   # First Fibonacci number\n",
        "   elif n==1:\n",
        "      return 0\n",
        "   # Second Fibonacci number\n",
        "   elif n==2:\n",
        "      return 1\n",
        "   else:\n",
        "      return fib_num(n-1)+fib_num(n-2)\n",
        "\n",
        "#input\n",
        "n=int(input(\"Enter the number: \"))\n",
        "print(f\"{n} Fibonacci number is \",fib_num(n))"
      ],
      "metadata": {
        "colab": {
          "base_uri": "https://localhost:8080/"
        },
        "id": "462CaARdegqz",
        "outputId": "4507fed2-df34-4a29-bbb3-acce2f18d02e"
      },
      "execution_count": null,
      "outputs": [
        {
          "output_type": "stream",
          "name": "stdout",
          "text": [
            "Enter the number: 0\n",
            "Fibonacci can't be computed\n",
            "0 Fibonacci number is  None\n"
          ]
        }
      ]
    },
    {
      "cell_type": "markdown",
      "source": [
        "# Q82. Write a Python program to interchange the first and last element in a list.\n"
      ],
      "metadata": {
        "id": "adCkmURkfKRu"
      }
    },
    {
      "cell_type": "code",
      "source": [
        "def swap(mylist,pos1,pos2):\n",
        "  temp=mylist[pos1]\n",
        "  mylist[pos1]=mylist[pos2]\n",
        "  mylist[pos2]=temp\n",
        "  return mylist\n",
        "\n",
        "mylist = [1,2,3,4,5]\n",
        "pos1,pos2 = 0,-1\n",
        "\n",
        "print(swap(mylist,pos1=-1,pos2=0))\n"
      ],
      "metadata": {
        "colab": {
          "base_uri": "https://localhost:8080/"
        },
        "id": "QhykUtSufMc3",
        "outputId": "316b9fb1-b087-4fb1-c072-84938cdca280"
      },
      "execution_count": null,
      "outputs": [
        {
          "output_type": "stream",
          "name": "stdout",
          "text": [
            "[5, 2, 3, 4, 1]\n"
          ]
        }
      ]
    },
    {
      "cell_type": "markdown",
      "source": [
        "# Q83. Write a Python program to swap two elements in a list."
      ],
      "metadata": {
        "id": "KdKQ5bD2iRKA"
      }
    },
    {
      "cell_type": "code",
      "source": [
        "def swap(list_, a, b):\n",
        "    list_[a], list_[b] = list_[b], list_[a]\n",
        "\n",
        "names = [\"Ajay\", \"Babu\", \"Chethan\", \"Dhanush\"]\n",
        "print(names)\n",
        "swap(names, 2, 3)\n",
        "print(names)"
      ],
      "metadata": {
        "colab": {
          "base_uri": "https://localhost:8080/"
        },
        "id": "DDQXqWJci4va",
        "outputId": "3acc72df-bd73-49a1-8ab4-0f35ac454bae"
      },
      "execution_count": null,
      "outputs": [
        {
          "output_type": "stream",
          "name": "stdout",
          "text": [
            "['Ajay', 'Babu', 'Chethan', 'Dhanush']\n",
            "['Ajay', 'Babu', 'Dhanush', 'Chethan']\n"
          ]
        }
      ]
    },
    {
      "cell_type": "markdown",
      "source": [
        "# Q84. Write a Python program to find N largest element from a list.\n"
      ],
      "metadata": {
        "id": "2IcS6OI9mKDJ"
      }
    },
    {
      "cell_type": "code",
      "source": [
        "def larg_num(lst):\n",
        "\n",
        "  print(max(lst))\n",
        "\n",
        "mylist = [11,33,22,245,879,991,1020,5,7,8,999]\n",
        "\n",
        "larg_num(mylist)"
      ],
      "metadata": {
        "colab": {
          "base_uri": "https://localhost:8080/"
        },
        "id": "sgjRkEbSmMRI",
        "outputId": "d589f5a9-e4d0-411c-f4b3-c5758b802907"
      },
      "execution_count": null,
      "outputs": [
        {
          "output_type": "stream",
          "name": "stdout",
          "text": [
            "1020\n"
          ]
        }
      ]
    },
    {
      "cell_type": "markdown",
      "source": [
        "# Q85. Write a Python program to find cumulative sum of a list."
      ],
      "metadata": {
        "id": "TLeXRcEInS4Y"
      }
    },
    {
      "cell_type": "code",
      "source": [
        "def cumsum(lst):\n",
        "  sm = 0\n",
        "  cum_list=[]\n",
        "  for i in lst:\n",
        "    sm = sm + i\n",
        "    cum_list.append(sm)\n",
        "  return cum_list\n",
        "\n",
        "mylist = [10,20,30,40,50]\n",
        "print(cumsum(mylist))"
      ],
      "metadata": {
        "colab": {
          "base_uri": "https://localhost:8080/"
        },
        "id": "xQG1H5niT178",
        "outputId": "545e3cfa-f1fd-4987-ae9d-6b2d0bfc36b1"
      },
      "execution_count": null,
      "outputs": [
        {
          "output_type": "stream",
          "name": "stdout",
          "text": [
            "[10, 30, 60, 100, 150]\n"
          ]
        }
      ]
    },
    {
      "cell_type": "markdown",
      "source": [
        "# Q86. Write a Python program to check if a string is palindrome or not."
      ],
      "metadata": {
        "id": "gDql-TBjUjz_"
      }
    },
    {
      "cell_type": "code",
      "source": [
        "def palindrome(mystr):\n",
        "  return mystr == mystr[::-1]\n",
        "\n",
        "mystr = input(\"Enter the palindrome string: \")\n",
        "ispal = palindrome(mystr)\n",
        "\n",
        "if ispal:\n",
        "  print(\"Yes\")\n",
        "else:\n",
        "  print(\"No\")"
      ],
      "metadata": {
        "colab": {
          "base_uri": "https://localhost:8080/"
        },
        "id": "1kxwvpQaVZxg",
        "outputId": "b23b6037-e1fa-419f-832e-815e4a2142e1"
      },
      "execution_count": null,
      "outputs": [
        {
          "output_type": "stream",
          "name": "stdout",
          "text": [
            "Enter the palindrome string: madam\n",
            "Yes\n"
          ]
        }
      ]
    },
    {
      "cell_type": "markdown",
      "source": [
        "# Q87. Write a Python program to remove i'th element from a string."
      ],
      "metadata": {
        "id": "nrBd48aKWO9S"
      }
    },
    {
      "cell_type": "code",
      "source": [
        "\n",
        "mystr = \"Hello World\"\n",
        "\n",
        "i=1\n",
        "\n",
        "print(\"Orginal String: \",mystr)\n",
        "\n",
        "# initialising new string using replace() method\n",
        "new_str = mystr.replace(mystr[i-1],\"\")\n",
        "\n",
        "print(\"After removing: \", new_str)\n"
      ],
      "metadata": {
        "colab": {
          "base_uri": "https://localhost:8080/"
        },
        "id": "wq9RM9VDWYDF",
        "outputId": "fb857d53-5856-4223-d3db-27b65c78f9d3"
      },
      "execution_count": null,
      "outputs": [
        {
          "output_type": "stream",
          "name": "stdout",
          "text": [
            "Orginal String:  Hello World\n",
            "After removing:  ello World\n"
          ]
        }
      ]
    },
    {
      "cell_type": "markdown",
      "source": [
        "# Q88. Write a Python program to check if a substring is present in a given string."
      ],
      "metadata": {
        "id": "VEO_psLpE95C"
      }
    },
    {
      "cell_type": "code",
      "source": [
        "str1 = \"Hello World\"\n",
        "str2 = \"Hello\"\n",
        "\n",
        "#split str1 words\n",
        "s = str1.split()\n",
        "\n",
        "#check str2 word in str1\n",
        "\n",
        "if str2 in s:\n",
        "  print(\"Yes\")\n",
        "else:\n",
        "  print(\"No\")\n",
        "\n"
      ],
      "metadata": {
        "colab": {
          "base_uri": "https://localhost:8080/"
        },
        "id": "GAQUs-vOFO3v",
        "outputId": "0f926d2b-5d76-4f71-da04-632753605d21"
      },
      "execution_count": null,
      "outputs": [
        {
          "output_type": "stream",
          "name": "stdout",
          "text": [
            "Yes\n"
          ]
        }
      ]
    },
    {
      "cell_type": "markdown",
      "source": [
        "# Q89. Write a Python program to find words which are greater than given length k."
      ],
      "metadata": {
        "id": "jqymFvHqGfA8"
      }
    },
    {
      "cell_type": "code",
      "source": [
        "mystring = \"Hello Welcome to Python World\"\n",
        "\n",
        "print(\"Original String: \", mystring)\n",
        "\n",
        "length = 5\n",
        "\n",
        "new_str = mystring.split()\n",
        "lst = list(filter(lambda x: (len(x)>length),new_str))\n",
        "\n",
        "print(\"length conditional result of string\",lst)\n",
        "\n"
      ],
      "metadata": {
        "colab": {
          "base_uri": "https://localhost:8080/"
        },
        "id": "9DwWOfiWGuLW",
        "outputId": "04ec0374-5751-4a77-e8df-5472b5479326"
      },
      "execution_count": null,
      "outputs": [
        {
          "output_type": "stream",
          "name": "stdout",
          "text": [
            "Original String:  Hello Welcome to Python World\n",
            "length conditional result of string ['Welcome', 'Python']\n"
          ]
        }
      ]
    },
    {
      "cell_type": "markdown",
      "source": [
        "# Q90. Write a Python program to extract unquire dictionary values."
      ],
      "metadata": {
        "id": "HTlrw8lsIwGb"
      }
    },
    {
      "cell_type": "code",
      "source": [
        "mydict = {\n",
        "    'a' : [0,1,2,3,4,5],\n",
        "    'b' : [2,3,4,5,6,9],\n",
        "    'c' : [3,4,5,6,7,8]\n",
        "}\n",
        "\n",
        "lst = []\n",
        "\n",
        "for i in mydict.keys():\n",
        "  lst.extend(mydict[i])\n",
        "lst=list(set(lst))\n",
        "lst.sort()\n",
        "\n",
        "print(lst)"
      ],
      "metadata": {
        "colab": {
          "base_uri": "https://localhost:8080/"
        },
        "id": "oQK0c5hCI7ho",
        "outputId": "19bc1190-596b-4deb-9536-732936255f41"
      },
      "execution_count": null,
      "outputs": [
        {
          "output_type": "stream",
          "name": "stdout",
          "text": [
            "[0, 1, 2, 3, 4, 5, 6, 7, 8, 9]\n"
          ]
        }
      ]
    },
    {
      "cell_type": "markdown",
      "source": [
        "# Q91. Write a Python program to merge two dictionary."
      ],
      "metadata": {
        "id": "3oDdbAIhPmlv"
      }
    },
    {
      "cell_type": "code",
      "source": [
        "mydict1 = {\n",
        "    'name' : 'JoyJoy',\n",
        "    'height' : 6,\n",
        "    'country' : 'USA'\n",
        "}\n",
        "\n",
        "mydict2 = {\n",
        "    'name' : 'Kumar',\n",
        "    'age' : 21,\n",
        "    'country' : 'UK'\n",
        "}\n",
        "\n",
        "mydict3 = mydict2.copy()\n",
        "mydict3.update(mydict1)\n",
        "\n",
        "print(mydict3)"
      ],
      "metadata": {
        "colab": {
          "base_uri": "https://localhost:8080/"
        },
        "id": "GZhpQu3oP1fE",
        "outputId": "3b343116-00a1-41f8-8c0a-276d20065e19"
      },
      "execution_count": null,
      "outputs": [
        {
          "output_type": "stream",
          "name": "stdout",
          "text": [
            "{'name': 'JoyJoy', 'age': 21, 'country': 'USA', 'height': 6}\n"
          ]
        }
      ]
    },
    {
      "cell_type": "markdown",
      "source": [
        "# Q92. Write a Python program to convert a list of tuples into dictionary.\n",
        "Input : [('Sachin', 10), ('MSD', 7), ('Kohli', 18), ('Rohit', 45)]\n",
        "Output : {'Sachin': 10, 'MSD': 7, 'Kohli': 18, 'Rohit': 45}"
      ],
      "metadata": {
        "id": "6ASez6DRSE5N"
      }
    },
    {
      "cell_type": "code",
      "source": [
        "mylist = [('Sachin', 10), ('MSD', 7), ('Kohli', 18), ('Rohit', 45)]\n",
        "\n",
        "mydict = dict(mylist)\n",
        "\n",
        "mydict"
      ],
      "metadata": {
        "colab": {
          "base_uri": "https://localhost:8080/"
        },
        "id": "fZ2BFw0HSOY5",
        "outputId": "f229d180-917f-4e10-8da8-015c7a062a50"
      },
      "execution_count": null,
      "outputs": [
        {
          "output_type": "execute_result",
          "data": {
            "text/plain": [
              "{'Sachin': 10, 'MSD': 7, 'Kohli': 18, 'Rohit': 45}"
            ]
          },
          "metadata": {},
          "execution_count": 56
        }
      ]
    },
    {
      "cell_type": "markdown",
      "source": [
        "# Q93. Write a Python program to create a list of tuples from given list having number and its cube in each tuple.\n",
        "Input: list = [9, 5, 6]\n",
        "Output: [(9, 729), (5, 125), (6, 216)]"
      ],
      "metadata": {
        "id": "IsMZ4znHSpG9"
      }
    },
    {
      "cell_type": "code",
      "source": [
        "mylist = [9, 5, 6]\n",
        "\n",
        "output = []\n",
        "\n",
        "for num in mylist:\n",
        "    cube = num**3\n",
        "    output.append((num,cube))\n",
        "\n",
        "\n",
        "print(output)\n"
      ],
      "metadata": {
        "colab": {
          "base_uri": "https://localhost:8080/"
        },
        "id": "hRaJfoqWTACu",
        "outputId": "f620b059-0ec9-4184-9d73-6e3fee82bb31"
      },
      "execution_count": null,
      "outputs": [
        {
          "output_type": "stream",
          "name": "stdout",
          "text": [
            "[(9, 729), (5, 125), (6, 216)]\n"
          ]
        }
      ]
    },
    {
      "cell_type": "markdown",
      "source": [
        "# Q94. Write a Python program to get all combinations of 2 tuples.\n",
        "Input : test_tuple1 = (7, 2), test_tuple2 = (7, 8)\n",
        "Output : [(7, 7), (7, 8), (2, 7), (2, 8), (7, 7), (7, 2), (8, 7), (8, 2)]"
      ],
      "metadata": {
        "id": "FFhE5ih7Ut1N"
      }
    },
    {
      "cell_type": "code",
      "source": [
        "test_tuple1 = (7, 2) \n",
        "test_tuple2 = (7, 8)\n",
        "\n",
        "#combining of 2 tuples\n",
        "output = [(x,y) for x in test_tuple1 for y in test_tuple2]\n",
        "print(output)\n",
        "output = output + [(x,y) for x in test_tuple2 for y in test_tuple1]\n",
        "\n",
        "print(\"\\nThe results of tuple: \",output)\n",
        "\n"
      ],
      "metadata": {
        "colab": {
          "base_uri": "https://localhost:8080/"
        },
        "id": "_c0FODd8VBIw",
        "outputId": "6e4675cc-9c86-42f9-86d2-5b6faa67b224"
      },
      "execution_count": null,
      "outputs": [
        {
          "output_type": "stream",
          "name": "stdout",
          "text": [
            "[(7, 7), (7, 8), (2, 7), (2, 8)]\n",
            "\n",
            "The results of tuple:  [(7, 7), (7, 8), (2, 7), (2, 8), (7, 7), (7, 2), (8, 7), (8, 2)]\n"
          ]
        }
      ]
    },
    {
      "cell_type": "markdown",
      "source": [
        "# Q95. Write a Python program to sort a list of tuples by second item.\n",
        "Input : [('for', 24), ('Geeks', 8), ('Geeks', 30)] \n",
        "Output : [('Geeks', 8), ('for', 24), ('Geeks', 30)]"
      ],
      "metadata": {
        "id": "O6nXQml1Y2BG"
      }
    },
    {
      "cell_type": "code",
      "source": [
        "mylist = [('for', 24), ('Geeks', 8), ('Geeks', 30)] \n",
        "\n",
        "def lstsort(tup):\n",
        "  tup.sort(key = lambda a: a[1])\n",
        "  return tup\n",
        "\n",
        "print(\"Sorted Tuple list: \",lstsort(mylist))\n",
        "\n",
        "\n"
      ],
      "metadata": {
        "colab": {
          "base_uri": "https://localhost:8080/"
        },
        "id": "mjkAl47SiuhT",
        "outputId": "76c81d8b-f183-4fb9-c929-31f61dc9cc36"
      },
      "execution_count": null,
      "outputs": [
        {
          "output_type": "stream",
          "name": "stdout",
          "text": [
            "Sorted Tuple list:  [('Geeks', 8), ('for', 24), ('Geeks', 30)]\n"
          ]
        }
      ]
    },
    {
      "cell_type": "markdown",
      "source": [
        "# Q96. Write a python program to print below pattern.\n",
        "----------\n",
        "* \n",
        "* * \n",
        "* * * \n",
        "* * * * \n",
        "* * * * * \n",
        "------------"
      ],
      "metadata": {
        "id": "43UKzQaDmYXE"
      }
    },
    {
      "cell_type": "code",
      "source": [
        "def star(n):\n",
        "  if n==0:\n",
        "    return\n",
        "  else:\n",
        "    star(n-1)\n",
        "    print(\"* \"*n)\n",
        "\n",
        "n = 5\n",
        "star(n)"
      ],
      "metadata": {
        "colab": {
          "base_uri": "https://localhost:8080/"
        },
        "id": "PN2Hlha6ml0-",
        "outputId": "a5a60f57-c61a-44ab-c88a-675a9b636ea1"
      },
      "execution_count": null,
      "outputs": [
        {
          "output_type": "stream",
          "name": "stdout",
          "text": [
            "* \n",
            "* * \n",
            "* * * \n",
            "* * * * \n",
            "* * * * * \n"
          ]
        }
      ]
    },
    {
      "cell_type": "markdown",
      "source": [
        "# Q97. Write a python program to print below pattern.\n",
        "    *\n",
        "   **\n",
        "  ***\n",
        " ****\n",
        "*****"
      ],
      "metadata": {
        "id": "I97nsJRGrS5R"
      }
    },
    {
      "cell_type": "code",
      "source": [
        "n=5;i=0\n",
        "\n",
        "while(i<=n):\n",
        "  print(\" \" * (n -i) + \"*\" * i)\n",
        "  i+=1"
      ],
      "metadata": {
        "colab": {
          "base_uri": "https://localhost:8080/"
        },
        "id": "riaO_rOHrZFI",
        "outputId": "a70bf67a-8dea-469f-c84e-d108cdb3d139"
      },
      "execution_count": 16,
      "outputs": [
        {
          "output_type": "stream",
          "name": "stdout",
          "text": [
            "     \n",
            "    *\n",
            "   **\n",
            "  ***\n",
            " ****\n",
            "*****\n"
          ]
        }
      ]
    },
    {
      "cell_type": "markdown",
      "source": [
        "# Q98. Write a python program to print below pattern.\n",
        "    * \n",
        "   * * \n",
        "  * * * \n",
        " * * * * \n",
        "* * * * * "
      ],
      "metadata": {
        "id": "AiVU-JPqB9X1"
      }
    },
    {
      "cell_type": "code",
      "source": [
        "# Triangle Function\n",
        "def triangle(n):\n",
        "\n",
        "  # number of spaces\n",
        "  k = n - 1\n",
        "\n",
        "  # for loop\n",
        "  for i in range(0,n):\n",
        "\n",
        "    #inner loop\n",
        "    for j in range(0,k):\n",
        "      print(end=\" \")\n",
        "\n",
        "    #decrementing k after each loop\n",
        "    k = k -1\n",
        "\n",
        "    #inner loop for no of columns\n",
        "    for j in range(0,i+1):\n",
        "\n",
        "      #printing starts\n",
        "      print(\"* \",end=\"\")\n",
        "\n",
        "    print(\"\\r\")\n",
        "\n",
        "n = 5\n",
        "triangle(n)"
      ],
      "metadata": {
        "colab": {
          "base_uri": "https://localhost:8080/"
        },
        "id": "ZNko8qq-CDAN",
        "outputId": "fccc74bb-be3f-48ae-bbe8-acc1d932c877"
      },
      "execution_count": 17,
      "outputs": [
        {
          "output_type": "stream",
          "name": "stdout",
          "text": [
            "    * \r\n",
            "   * * \r\n",
            "  * * * \r\n",
            " * * * * \r\n",
            "* * * * * \r\n"
          ]
        }
      ]
    },
    {
      "cell_type": "markdown",
      "source": [
        "# Q99. Write a python program to print below pattern.\n",
        "1 \n",
        "1 2 \n",
        "1 2 3 \n",
        "1 2 3 4 \n",
        "1 2 3 4 5"
      ],
      "metadata": {
        "id": "MYtAv_-eGVC-"
      }
    },
    {
      "cell_type": "code",
      "source": [
        "\n",
        "def number(n):\n",
        "\t\n",
        "\t# initialising number\n",
        "\tnum = 1\n",
        "\n",
        "\t# for loop \n",
        "\tfor i in range(0, n):\n",
        "\t\n",
        "\t\t# re assigning num\n",
        "\t\tnum = 1\n",
        "\t\n",
        "\t\t# inner loop \n",
        "\t\tfor j in range(0, i+1):\n",
        "\t\t\n",
        "\t\t\t\t# printing number\n",
        "\t\t\tprint(num, end=\" \")\n",
        "\t\t\n",
        "\t\t\t# incrementing number at each column\n",
        "\t\t\tnum = num + 1\n",
        "\t\n",
        "\t\t# ending line after each row\n",
        "\t\tprint(\"\\r\")\n",
        "\n",
        "\n",
        "n = 5\n",
        "number(n)\n"
      ],
      "metadata": {
        "colab": {
          "base_uri": "https://localhost:8080/"
        },
        "id": "FPycwmO3GYDI",
        "outputId": "336f76a7-c3de-421c-c23f-32f4158128da"
      },
      "execution_count": 19,
      "outputs": [
        {
          "output_type": "stream",
          "name": "stdout",
          "text": [
            "1 \r\n",
            "1 2 \r\n",
            "1 2 3 \r\n",
            "1 2 3 4 \r\n",
            "1 2 3 4 5 \r\n"
          ]
        }
      ]
    },
    {
      "cell_type": "markdown",
      "source": [
        "# Q100. Write a python program to print below pattern.\n",
        "A \n",
        "B B \n",
        "C C C \n",
        "D D D D \n",
        "E E E E E "
      ],
      "metadata": {
        "id": "dAGktkEqG1Or"
      }
    },
    {
      "cell_type": "code",
      "source": [
        "\n",
        "def alphabets(n):\n",
        "\t\n",
        "\t# initialising number\n",
        "\tnum = 65\n",
        "\n",
        "\t# for loop \n",
        "\tfor i in range(0, n):\n",
        "\t\n",
        "\t\n",
        "\t\t# inner loop \n",
        "\t\tfor j in range(0, i+1):\n",
        "\n",
        "\t\t\t#type conversation\n",
        "\t\t\tch = chr(num)\n",
        "\t\t\n",
        "\t\t\t\t# printing number\n",
        "\t\t\tprint(ch, end=\" \")\n",
        "\t\t\n",
        "\t\t\t# incrementing number at each column\n",
        "\t\t\tnum = num + 1\n",
        "\t\n",
        "\t\t# ending line after each row\n",
        "\t\tprint(\"\\r\")\n",
        "\n",
        "\n",
        "n = 5\n",
        "alphabets(n)\n"
      ],
      "metadata": {
        "colab": {
          "base_uri": "https://localhost:8080/"
        },
        "outputId": "7add42b6-e92d-4949-997f-b251d344e63e",
        "id": "pZ_OKkwoHBlP"
      },
      "execution_count": 22,
      "outputs": [
        {
          "output_type": "stream",
          "name": "stdout",
          "text": [
            "A \r\n",
            "B C \r\n",
            "D E F \r\n",
            "G H I J \r\n",
            "K L M N O \r\n"
          ]
        }
      ]
    }
  ]
}