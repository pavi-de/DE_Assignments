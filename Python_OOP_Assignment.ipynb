{
  "nbformat": 4,
  "nbformat_minor": 0,
  "metadata": {
    "colab": {
      "provenance": [],
      "authorship_tag": "ABX9TyMq3vZZq88LnaF42K4yxCAY",
      "include_colab_link": true
    },
    "kernelspec": {
      "name": "python3",
      "display_name": "Python 3"
    },
    "language_info": {
      "name": "python"
    }
  },
  "cells": [
    {
      "cell_type": "markdown",
      "metadata": {
        "id": "view-in-github",
        "colab_type": "text"
      },
      "source": [
        "<a href=\"https://colab.research.google.com/github/pavi-de/DE_Assignments/blob/main/Python_OOP_Assignment.ipynb\" target=\"_parent\"><img src=\"https://colab.research.google.com/assets/colab-badge.svg\" alt=\"Open In Colab\"/></a>"
      ]
    },
    {
      "cell_type": "markdown",
      "source": [
        "# Q1. What is the purpose of Python's OOP?"
      ],
      "metadata": {
        "id": "furmymvRkH97"
      }
    },
    {
      "cell_type": "markdown",
      "source": [
        "Object Oriented Programming is programming paradigm based on concept of objets, which contains data & code.\n",
        "\n",
        "\n",
        "*   The purpose of OOPs is code reusability.\n",
        "*   Provides a clear program structure and a clean code\n",
        "*   Easy maintenance and modifiction of existing code\n",
        "\n",
        "An object has two characteristics\n",
        "1.   Attributes\n",
        "2.   Behavior\n",
        "\n",
        "\n",
        "\n",
        "\n",
        "\n"
      ],
      "metadata": {
        "id": "sNJB-PRNkmKM"
      }
    },
    {
      "cell_type": "markdown",
      "source": [
        "# Q2. Where does an inheritance search look for an attribute?"
      ],
      "metadata": {
        "id": "ic1O83rzmto5"
      }
    },
    {
      "cell_type": "code",
      "source": [
        "'''\n",
        "An inheritance search looks for an attribute first in the instance object, \n",
        "then in the class the instance was created from, then in all higher superclasses, \n",
        "progressing from left to right (by default). The search stops at the first place the attribute is found.\n",
        "'''\n",
        "\n",
        "\n",
        "class A:\n",
        "\tdef parent(self):\n",
        "\t\tprint(\" In class A\")\n",
        "class B(A):\n",
        "\tdef child(self):\n",
        "\t\tprint(\" In class B\")\n",
        "\n",
        "obj = B()\n",
        "obj.child()\n"
      ],
      "metadata": {
        "colab": {
          "base_uri": "https://localhost:8080/"
        },
        "id": "QeSoccQpkuFm",
        "outputId": "a96db0a2-db72-4d64-a92c-3ea550029e04"
      },
      "execution_count": null,
      "outputs": [
        {
          "output_type": "stream",
          "name": "stdout",
          "text": [
            " In class B\n"
          ]
        }
      ]
    },
    {
      "cell_type": "markdown",
      "source": [
        "# Q3. How do you distinguish between a class object and an instance object?"
      ],
      "metadata": {
        "id": "xiuzO1odmkqd"
      }
    },
    {
      "cell_type": "code",
      "source": [
        "'''\n",
        "#Class Object:\n",
        "  when we create a class in python then a class object is created so whenever python finds a class statement in the whole program \n",
        "  then it creates a class object and assigns a name to that object i.e. class name. As we know in python, everything is an object \n",
        "  so the class itself is an object and is the instance of metaclasses.\n",
        "\n",
        "#Instance Object:\n",
        "  when we call a class, it creates an instance object of that class from which the object has been created. \n",
        "  Ex: when we call the class then it will create an instance object like this.\n",
        "'''\n",
        "\n",
        "\n",
        "class Book():\n",
        "  print(\"Welcome Come\")\n",
        "\n",
        "#Instance Object\n",
        "obj = Book()\n"
      ],
      "metadata": {
        "colab": {
          "base_uri": "https://localhost:8080/"
        },
        "id": "lWn94cPlpIxd",
        "outputId": "eedefb33-496a-40d1-9132-05c7301c1e78"
      },
      "execution_count": null,
      "outputs": [
        {
          "output_type": "stream",
          "name": "stdout",
          "text": [
            "Welcome Come\n"
          ]
        },
        {
          "output_type": "execute_result",
          "data": {
            "text/plain": [
              "<__main__.Book at 0x7fed1dca8ed0>"
            ]
          },
          "metadata": {},
          "execution_count": 11
        }
      ]
    },
    {
      "cell_type": "markdown",
      "source": [
        "# Q4. What makes the first argument in a class’s method function special?"
      ],
      "metadata": {
        "id": "c6cOrwxZq8ck"
      }
    },
    {
      "cell_type": "code",
      "source": [
        "'''\n",
        "self is the first argument passed in the class method functions\n",
        "self represents the instance of the class. By using the “self”  we can access the attributes and methods of the class in python. \n",
        "It binds the attributes with the given arguments.\n",
        "'''\n",
        "\n",
        "#Both self & obj instance referring to same mem address.\n",
        "\n",
        "class check:\n",
        "\tdef __init__(self):\n",
        "\t\tprint(\"Address of self = \",id(self))\n",
        "\n",
        "obj = check()\n",
        "print(\"Address of class object = \",id(obj))\n",
        "\n",
        "\n"
      ],
      "metadata": {
        "colab": {
          "base_uri": "https://localhost:8080/"
        },
        "id": "18WIgE2srPKj",
        "outputId": "371e2046-983b-4205-9ed1-e4bd3123da7f"
      },
      "execution_count": null,
      "outputs": [
        {
          "output_type": "stream",
          "name": "stdout",
          "text": [
            "Address of self =  140656383737808\n",
            "Address of class object =  140656383737808\n"
          ]
        }
      ]
    },
    {
      "cell_type": "markdown",
      "source": [
        "# Q5. What is the purpose of the init method?"
      ],
      "metadata": {
        "id": "1l18BPCfr2oK"
      }
    },
    {
      "cell_type": "code",
      "source": [
        "'''\n",
        "The __init__ method is the Python equivalent of the C++ constructor. \n",
        "Every time an object is created from a class, the __init__function is called. \n",
        "The __init__ method only allows the class to initialize the object's attributes. It is only used within classes. '''\n",
        "\n",
        "class Welcome:\n",
        "  def __init__(self,name):\n",
        "    print(f\"Welcome to Learning Python {name}\")\n",
        "  \n",
        "\n",
        "obj = Welcome('JoyJoy')\n",
        "obj"
      ],
      "metadata": {
        "colab": {
          "base_uri": "https://localhost:8080/"
        },
        "id": "SgRZcOQ9zMCb",
        "outputId": "6e5c06f7-500a-406d-9f41-10e77204ca60"
      },
      "execution_count": null,
      "outputs": [
        {
          "output_type": "stream",
          "name": "stdout",
          "text": [
            "Welcome to Learning Python JoyJoy\n"
          ]
        },
        {
          "output_type": "execute_result",
          "data": {
            "text/plain": [
              "<__main__.Welcome at 0x7f03666b84d0>"
            ]
          },
          "metadata": {},
          "execution_count": 2
        }
      ]
    },
    {
      "cell_type": "markdown",
      "source": [
        "# Q6. What is the process for creating a class instance?"
      ],
      "metadata": {
        "id": "S4cuH5Hmz5QQ"
      }
    },
    {
      "cell_type": "code",
      "source": [
        "'''A class is a user-defined blueprint or prototype from which objects are created. \n",
        "Classes provide a means of bundling data and functionality together. Creating a new class creates a new type of object, \n",
        "allowing new instances of that type to be made. Each class instance can have attributes attached to it for maintaining its state. \n",
        "Class instances can also have methods (defined by their class) for modifying their state'''\n",
        "\n",
        "class Folks:\n",
        "  def __init__(self,name,age):\n",
        "    self.name = name\n",
        "    self.age = age\n",
        "\n",
        "folks1 = Folks('Ajay',11)\n",
        "folks2 = Folks('Babu',12)\n",
        "\n",
        "print(folks1.name)\n",
        "print(folks2.age)"
      ],
      "metadata": {
        "colab": {
          "base_uri": "https://localhost:8080/"
        },
        "id": "xFcPkK-U0iro",
        "outputId": "1ffb7588-cd07-4ef3-9307-ec5a492acaee"
      },
      "execution_count": null,
      "outputs": [
        {
          "output_type": "stream",
          "name": "stdout",
          "text": [
            "Ajay\n",
            "12\n"
          ]
        }
      ]
    },
    {
      "cell_type": "markdown",
      "source": [
        "# Q7. What is the process for creating a class?"
      ],
      "metadata": {
        "id": "FfE9V1Qw1iQ2"
      }
    },
    {
      "cell_type": "code",
      "source": [
        "class MyFirstClass:\n",
        "  def __init__(self):\n",
        "    print(\"Created my first OOP Class\")\n",
        "  \n",
        "myclass = MyFirstClass()\n"
      ],
      "metadata": {
        "colab": {
          "base_uri": "https://localhost:8080/"
        },
        "id": "xfUopsue1pdO",
        "outputId": "612c185b-f30c-4549-afee-ea6e85f675b9"
      },
      "execution_count": null,
      "outputs": [
        {
          "output_type": "stream",
          "name": "stdout",
          "text": [
            "Created my first OOP Class\n"
          ]
        }
      ]
    },
    {
      "cell_type": "markdown",
      "source": [
        "# Q8. How would you define the superclasses of a class?"
      ],
      "metadata": {
        "id": "GZtMlrrR2BNP"
      }
    },
    {
      "cell_type": "code",
      "source": [
        "'''\n",
        "A superclass is the class from which many subclasses can be created. The subclasses inherit the characteristics of a superclass. \n",
        "The superclass is also known as the parent class or base class\n",
        "'''\n",
        "\n",
        "#Define the Parent class\n",
        "class Person:\n",
        "  def __init__(self, fname, lname):\n",
        "    self.firstname = fname\n",
        "    self.lastname = lname\n",
        "\n",
        "  def printname(self):\n",
        "    print(self.__class__.__name__,\":\", self.firstname, self.lastname)\n",
        "\n",
        "#Use the Person class to create an object, and then execute the printname method:\n",
        "\n",
        "x = Person(\"John\", \"Doe\")\n",
        "x.printname() \n",
        "\n",
        "#Define a Child class of Person\n",
        "\n",
        "class Student(Person):\n",
        "  def __init__(self, fname, lname, year):\n",
        "    super().__init__(fname, lname)\n",
        "    self.year = year\n",
        "\n",
        "  def printname(self):\n",
        "    super().printname()\n",
        "    print(self.year)\n",
        "\n",
        "#Create a new Student object\n",
        "\n",
        "x = Student(\"Mike\", \"Olsen\", 2019)\n",
        "x.printname() \n",
        "#Create a new Student object\n",
        "\n",
        "x = Student(\"Joker\", \"Lee\", 2018)\n",
        "x.printname() \n",
        "#Create a new Student object\n",
        "\n",
        "x = Student(\"Swan\", \"Alter\", 2017)\n",
        "x.printname()"
      ],
      "metadata": {
        "colab": {
          "base_uri": "https://localhost:8080/"
        },
        "id": "cNwHcgSJ3Hae",
        "outputId": "f30bf7ea-5c2e-43b6-b610-b2efbfa94bcc"
      },
      "execution_count": null,
      "outputs": [
        {
          "output_type": "stream",
          "name": "stdout",
          "text": [
            "Person : John Doe\n",
            "Student : Mike Olsen\n",
            "2019\n",
            "Student : Joker Lee\n",
            "2018\n",
            "Student : Swan Alter\n",
            "2017\n"
          ]
        }
      ]
    },
    {
      "cell_type": "markdown",
      "source": [
        "# Q9. What is the relationship between classes and modules?"
      ],
      "metadata": {
        "id": "1WdMcUfp435F"
      }
    },
    {
      "cell_type": "code",
      "source": [
        "'''\n",
        "classes are basically a template to create your own objects. \n",
        "Objects are an encapsulation of variables and functions into a single entity. Objects get their variables and functions from classes.\n",
        "\n",
        "Modules are basically libraries which are designed for doing specific tasks.A module is a file containing Python definitions and statements. \n",
        "Module is Python code that can be called from other programs for commonly used tasks, \n",
        "without having to type them in each and every program that uses them.\n",
        "'''\n",
        "\n",
        "#Class\n",
        "class Cookie:\n",
        "  def __init__(self,price,categ):\n",
        "    self.price = price\n",
        "    self.categ = categ\n",
        "\n",
        "Mycookie1 = Cookie(100,'Cashunt')\n",
        "Mycookie2 = Cookie(80,'FruitNut')\n",
        "print(Mycookie1.categ)\n",
        "print(Mycookie2.price)\n",
        "\n",
        "# Module\n",
        "def add(x, y):\n",
        "\treturn (x+y)\n",
        "\n",
        "def subtract(x, y):\n",
        "\treturn (x-y)\n",
        "\n",
        "print(add(2,2))\n",
        "print(subtract(2,2))"
      ],
      "metadata": {
        "colab": {
          "base_uri": "https://localhost:8080/"
        },
        "id": "zsPIQtFs6k19",
        "outputId": "e13daa5e-56c2-4700-c455-294618b201ee"
      },
      "execution_count": null,
      "outputs": [
        {
          "output_type": "stream",
          "name": "stdout",
          "text": [
            "Cashunt\n",
            "80\n",
            "4\n",
            "0\n"
          ]
        }
      ]
    },
    {
      "cell_type": "markdown",
      "source": [
        "# Q10. How do you make instances and classes?"
      ],
      "metadata": {
        "id": "4F4ygTuo_n0Q"
      }
    },
    {
      "cell_type": "code",
      "source": [
        "# classes\n",
        "class Person:\n",
        "\t\n",
        "\t# constructor\n",
        "\tdef __init__(self, name):\n",
        "\t\tself.name = name\n",
        "\t\n",
        "\t# Method\n",
        "\tdef say_hi(self):\n",
        "\t\tprint('Hello, my name is', self.name)\n",
        "\n",
        "#Instance of a class\t\n",
        "p = Person('JoyJoy')\n",
        "p.say_hi()\n"
      ],
      "metadata": {
        "colab": {
          "base_uri": "https://localhost:8080/"
        },
        "id": "21v9ZUQT_914",
        "outputId": "ca7dd328-6969-4e11-a68e-3c82d062439f"
      },
      "execution_count": null,
      "outputs": [
        {
          "output_type": "stream",
          "name": "stdout",
          "text": [
            "Hello, my name is JoyJoy\n"
          ]
        }
      ]
    },
    {
      "cell_type": "markdown",
      "source": [
        "# Q11. Where and how should be class attributes created?"
      ],
      "metadata": {
        "id": "9PH9_NqJAVmZ"
      }
    },
    {
      "cell_type": "code",
      "source": [
        "'''\n",
        "Python class attributes are variables of a class that are shared between all of its instances.\n",
        "'''\n",
        "class Student:\n",
        "  #Class Attributes\n",
        "    name = \"JoyJoy\"\n",
        "    course = \"Python\"\n",
        "    \n",
        "Student1 = Student()\n",
        "\n",
        "print(Student1.name,'Learning', Student1.course)\n"
      ],
      "metadata": {
        "colab": {
          "base_uri": "https://localhost:8080/"
        },
        "id": "TMm86ZSRAbcI",
        "outputId": "957e637c-7db2-413a-dd9f-7394f4abfa3c"
      },
      "execution_count": null,
      "outputs": [
        {
          "output_type": "stream",
          "name": "stdout",
          "text": [
            "JoyJoy Learning Python\n"
          ]
        }
      ]
    },
    {
      "cell_type": "markdown",
      "source": [
        "# Q12. Where and how are instance attributes created?"
      ],
      "metadata": {
        "id": "4stobAETCk3r"
      }
    },
    {
      "cell_type": "code",
      "source": [
        "'''\n",
        " Instance attributes, which are defined in the __init__() function, are class variables \n",
        " that allow us to define different values for each object of a class.\n",
        "'''\n",
        "\n",
        "class Student:\n",
        "  #Class Attribute\n",
        "    school = \"iNeuron\"\n",
        "    \n",
        "    def __init__(self, name, course):\n",
        "      #Instance Attribute\n",
        "        self.name = name\n",
        "        self.course = course\n",
        "\n",
        "#Instances   \n",
        "Student1 = Student(\"Ajay\", \"Python\")\n",
        "Student2 = Student(\"Babu\", \"BigData\")\n",
        "\n",
        "print(Student1.name) \n",
        "print(Student2.course) "
      ],
      "metadata": {
        "colab": {
          "base_uri": "https://localhost:8080/"
        },
        "id": "LiktJP3nDDBC",
        "outputId": "b71b7cd4-c84a-414b-8797-18c90d1471b3"
      },
      "execution_count": null,
      "outputs": [
        {
          "output_type": "stream",
          "name": "stdout",
          "text": [
            "Ajay\n",
            "BigData\n"
          ]
        }
      ]
    },
    {
      "cell_type": "markdown",
      "source": [
        "# Q13. What does the term \"self\" in a Python class mean?"
      ],
      "metadata": {
        "id": "yYAAdanaDkvy"
      }
    },
    {
      "cell_type": "code",
      "source": [
        "'''\n",
        "SELF is used to represent the instance of the class with this keyword, we can acccess the attributes & methods of the class in Python\n",
        "'''\n",
        "\n",
        "class Car():\n",
        "      \n",
        "    # init method or constructor\n",
        "    def __init__(self, model, color):\n",
        "        self.model = model\n",
        "        self.color = color\n",
        "          \n",
        "    def show(self):\n",
        "        print(\"Model is\", self.model )\n",
        "        print(\"color is\", self.color )\n",
        "          \n",
        "# both objects have different self which \n",
        "# contain their attributes\n",
        "audi = Car(\"audi a4\", \"blue\")\n",
        "ferrari = Car(\"ferrari 488\", \"green\")\n",
        "  \n",
        "audi.show()     # same output as car.show(audi)\n",
        "ferrari.show()  # same output as car.show(ferrari)\n",
        "  \n"
      ],
      "metadata": {
        "colab": {
          "base_uri": "https://localhost:8080/"
        },
        "id": "VI3CSKsUDw4T",
        "outputId": "a7c0ce49-ccad-4085-fae7-2246dab2be4c"
      },
      "execution_count": null,
      "outputs": [
        {
          "output_type": "stream",
          "name": "stdout",
          "text": [
            "Model is audi a4\n",
            "color is blue\n",
            "Model is ferrari 488\n",
            "color is green\n"
          ]
        }
      ]
    },
    {
      "cell_type": "markdown",
      "source": [
        "# Q14. How does a Python class handle operator overloading?"
      ],
      "metadata": {
        "id": "5q9KZXINGHdA"
      }
    },
    {
      "cell_type": "code",
      "source": [
        "'''Operator Overloading means giving extended meaning beyond their predefined operational meaning. \n",
        "Ex operator + is used to add two integers as well as join two strings and merge two lists. \n",
        "It is achievable because ‘+’ operator is overloaded by int class and str class. \n",
        "built-in operator or function shows different behavior for objects of different classes, this is called Operator Overloading. '''\n",
        "\n",
        "# Python program to show use of\n",
        "# + operator for different purposes.\n",
        "\n",
        "print(2 + 2)\n",
        "\n",
        "# concatenate two strings\n",
        "print(\"Hello \"+\"World\")\n",
        "\n",
        "# Product two numbers\n",
        "print(2 * 2)\n",
        "\n",
        "# Repeat the String\n",
        "print(\"Python \"*2)\n"
      ],
      "metadata": {
        "colab": {
          "base_uri": "https://localhost:8080/"
        },
        "id": "WhSYlQOOHVPg",
        "outputId": "dffb663a-c98b-4ae3-ba6d-0a8bf76dc2e6"
      },
      "execution_count": null,
      "outputs": [
        {
          "output_type": "stream",
          "name": "stdout",
          "text": [
            "4\n",
            "Hello World\n",
            "4\n",
            "Python Python \n"
          ]
        }
      ]
    },
    {
      "cell_type": "markdown",
      "source": [
        "# Q15. When do you consider allowing operator overloading of your classes?"
      ],
      "metadata": {
        "id": "LSbSmCkpHzgI"
      }
    },
    {
      "cell_type": "code",
      "source": [
        "'''\n",
        "      Python does all this using Special/Magic Methods. There special methods have a naming convention with two underscore as prefix __,\n",
        "followed by identifier name and suffixed with __ two underscores.\n",
        "      By default, most of the built-ins and operators will not work with objects of your classes. We must add the corresponding special methods in our \n",
        "class definition to make your object compatible with built-ins and operators.\n",
        "      Many of the specical methods defined in the Data Model can be used to change the behavior of functions such as len, hash etc..To do this, need to\n",
        "define the corresponding special method in class.\n",
        "      To change the behavior of len(), need to define the __len__() special method in class. Whenever we pass an object of your class to len(), \n",
        "custom definition of __len__() will be used to obtain the result. \n",
        "\n",
        "'''\n",
        "# Change the behavior of len() function\n",
        "class Order:\n",
        "  def __init__(self,cart,customer):\n",
        "    self.cart = list(cart)\n",
        "    self.customer = customer\n",
        "  \n",
        "  def __len__(self):\n",
        "    return len(self.cart)\n",
        "\n",
        "order = Order(['banana','apple','mango'],'Python World')\n",
        "len(order)\n",
        "\n",
        "# Witout changing the behviour of len() function, will get error\n",
        "class Order:\n",
        "  def __init__(self,cart,customer):\n",
        "    self.cart = list(cart)\n",
        "    self.customer = customer\n",
        "\n",
        "myorder = Order(['banana','apple','mango'],'Python World')\n",
        "# len(myorder) # Error will get generate\n",
        "#---> 31 len(myorder)\n",
        "#TypeError: object of type 'Order' has no len()\n"
      ],
      "metadata": {
        "id": "AMRka-BURJca"
      },
      "execution_count": null,
      "outputs": []
    },
    {
      "cell_type": "markdown",
      "source": [
        "# Q16. What is the most popular form of operator overloading?"
      ],
      "metadata": {
        "id": "Rcum826sSJzN"
      }
    },
    {
      "cell_type": "code",
      "source": [
        "'''\n",
        "Popual form of operator overloading, python provides some special function or magic function which automatically gets invoked when associated with \n",
        "that particular operator. \n",
        "The name of the method should begin and end with a double underscore (__)\n",
        "'''\n",
        "class Point:\n",
        "    def __init__(self, x=0, y=0):\n",
        "        self.x = x\n",
        "        self.y = y\n",
        "\n",
        "    def __str__(self):\n",
        "        return \"({0},{1})\".format(self.x, self.y)\n",
        "\n",
        "    def __add__(self, other):\n",
        "        x = self.x + other.x\n",
        "        y = self.y + other.y\n",
        "        return Point(x, y)\n",
        "\n",
        "\n",
        "p1 = Point(1, 2)\n",
        "p2 = Point(2, 3)\n",
        "\n",
        "print(p1+p2)"
      ],
      "metadata": {
        "colab": {
          "base_uri": "https://localhost:8080/"
        },
        "id": "EO5NmTBXZzpl",
        "outputId": "c4766e2b-ea40-4987-c589-ee0caa00a493"
      },
      "execution_count": null,
      "outputs": [
        {
          "output_type": "stream",
          "name": "stdout",
          "text": [
            "(3,5)\n"
          ]
        }
      ]
    },
    {
      "cell_type": "markdown",
      "source": [
        "# Q17. What are the two most important concepts to grasp in order to comprehend Python OOP code?"
      ],
      "metadata": {
        "id": "-oqMEGQQU0vV"
      }
    },
    {
      "cell_type": "code",
      "source": [
        "'''\n",
        "The two most important concepts are 'Inheritance' & 'Polymorphism' in OOPs.\n",
        "'''\n",
        "class Employee():\n",
        "  \n",
        "  #__init__: Constructor, #Attributes: Emp_ID & Salary\n",
        "  def __init__(self,emp_id,salary):\n",
        "    self.emp_id = emp_id\n",
        "    self.salary = salary\n",
        "  \n",
        "  #Method : give_raise\n",
        "  def give_raise(self):\n",
        "    self.salary = self.salary * 1.05\n",
        "\n",
        "#Creating an instance of class Employee\n",
        "Emp_SDE = Employee(1001,50000)\n",
        "print(\"Parent Class - Employee\")\n",
        "print(Emp_SDE.emp_id, Emp_SDE.salary)\n",
        "\n",
        "#Apply Method(give_raise) defined in Class\n",
        "Emp_SDE.give_raise()\n",
        "print(Emp_SDE.salary)\n",
        "\n",
        "#Creating derived class/child class using base class Employee called Inheritance\n",
        "\n",
        "'''\n",
        "The derived class copies the attributes(both data and procedural) from the parent class called Inheritance\n",
        "'''\n",
        "class Manager(Employee):\n",
        "  pass\n",
        "\n",
        "#Instance of derived class\n",
        "Mgr = Manager(1002,80000)\n",
        "print(\"\\nDerived Class-Manager\")\n",
        "print(Mgr.emp_id, Mgr.salary)\n",
        "\n",
        "# We can override the inherited attributes in child class of Method \"give_raise\"\n",
        "class Manager(Employee):\n",
        "  \n",
        "  #Method override of base class\n",
        "  def give_raise(self):\n",
        "    self.salary = self.salary * 1.10\n",
        "\n",
        "print(\"\\nMethod overrided in derived class of a base class method give_raise()\")\n",
        "Mgr.give_raise()\n",
        "print(Mgr.salary)\n",
        "\n",
        "#Another child class from Parent Employee class\n",
        "class Director(Employee):\n",
        "\n",
        "  def give_raise(self):\n",
        "    self.salary = self.salary * 1.20\n",
        "\n",
        "Dir = Director(1003,100000)\n",
        "print(\"\\nDerived Class - Director\")\n",
        "print(Dir.emp_id, Dir.salary)\n",
        "Dir.give_raise()\n",
        "print(\"Salary increase: \",Dir.salary)\n",
        "\n",
        "'''\n",
        "We have three different class and they all have a give_raise method. \n",
        "Although the name of the method is the same, it behaves differently for different type of objects called 'POLYMORPHISM'.\n",
        "'Polymorphism' allows us to leverage same function/method for different operations\n",
        "'''\n",
        "\n",
        "#Polymorphism\n",
        "def salary_raise(list_of_emps):\n",
        "  for emp in list_of_emps:\n",
        "    emp.give_raise()\n",
        "\n",
        "emp2_sde = Employee(1004,40000)\n",
        "emp2_mgr = Manager(1005,50000)\n",
        "emp2_dir = Director(1006,60000)\n",
        "\n",
        "list_of_emps = [emp2_sde,emp2_mgr,emp2_dir]\n",
        "\n",
        "# Increase salary for all the employees\n",
        "salary_raise(list_of_emps)\n",
        "print(\"Salary Hike to all employees\")\n",
        "print(\"\\nEmp2_SDE:\",emp2_sde.salary,\"\\nEmp2_Manager:\",emp2_mgr.salary,'\\nEmp2_Director:',emp2_dir.salary)"
      ],
      "metadata": {
        "colab": {
          "base_uri": "https://localhost:8080/"
        },
        "id": "HSN_ZgJwYPZo",
        "outputId": "a0fe2181-c620-4c3a-ce17-51c5c5b250c8"
      },
      "execution_count": null,
      "outputs": [
        {
          "output_type": "stream",
          "name": "stdout",
          "text": [
            "Parent Class - Employee\n",
            "1001 50000\n",
            "52500.0\n",
            "\n",
            "Derived Class-Manager\n",
            "1002 80000\n",
            "\n",
            "Method overrided in derived class of a base class method give_raise()\n",
            "84000.0\n",
            "\n",
            "Derived Class - Director\n",
            "1003 100000\n",
            "Salary increase:  120000.0\n",
            "Salary Hike to all employees\n",
            "\n",
            "Emp2_SDE: 42000.0 \n",
            "Emp2_Manager: 55000.00000000001 \n",
            "Emp2_Director: 72000.0\n"
          ]
        }
      ]
    },
    {
      "cell_type": "markdown",
      "source": [
        "# Q18. Describe three applications for exception processing.\n"
      ],
      "metadata": {
        "id": "YEXs4frZXkZq"
      }
    },
    {
      "cell_type": "code",
      "source": [
        "'''\n",
        "Python exception handling using 'try', 'except', 'raise' & 'finally' statements.\n",
        "An exception is an error which happens at the time of execution of a program. However, while running a program, Python generates an exception that \n",
        "should be handled to avoid your program to crash. In Python language, exceptions trigger automatically on errors, or they can be triggered and \n",
        "intercepted by our code.\n",
        "\n",
        "The exception indicates that, although the event can occur, this type of event happens infrequently. When the method is not able to handle the exception,\n",
        "it is thrown to its caller function. Eventually, when an exception is thrown out of the main function, the program is terminated abruptly.\n",
        "'''\n",
        "\n",
        "# a = 5/0 # ZeroDivisionError: division by zero Exception will occur. To avade crashing of our code, we can handle exception using try & except block\n",
        "\n",
        "try:\n",
        "  a = 5/0\n",
        "except:\n",
        "  print('ZeroDivisionError')\n",
        "\n"
      ],
      "metadata": {
        "id": "e6GWcBw7ltgF",
        "colab": {
          "base_uri": "https://localhost:8080/"
        },
        "outputId": "c14367ae-75d2-463a-9760-af7d67a2f89a"
      },
      "execution_count": null,
      "outputs": [
        {
          "output_type": "stream",
          "name": "stdout",
          "text": [
            "ZeroDivisionError\n"
          ]
        }
      ]
    },
    {
      "cell_type": "markdown",
      "source": [
        "# Q19. What happens if you don't do something extra to treat an exception?"
      ],
      "metadata": {
        "id": "t5Ak0-2XXm6p"
      }
    },
    {
      "cell_type": "code",
      "source": [
        "'''\n",
        "When an exception occurred, if we don’t handle it, the program terminates abruptly and the code past the line that caused the exception will not get \n",
        "executed.\n",
        "'''\n",
        "# Ex : Int & Str concatenation\n",
        "a = 11\n",
        "b = 'string'\n",
        "\n",
        "print(a + b) #TypeError: unsupported operand type(s) for +: 'int' and 'str'\n"
      ],
      "metadata": {
        "colab": {
          "base_uri": "https://localhost:8080/",
          "height": 205
        },
        "id": "_boGdJOUmMRH",
        "outputId": "c3d16a5d-3474-40c2-e4cb-a4cf78d82d00"
      },
      "execution_count": null,
      "outputs": [
        {
          "output_type": "error",
          "ename": "TypeError",
          "evalue": "ignored",
          "traceback": [
            "\u001b[0;31m---------------------------------------------------------------------------\u001b[0m",
            "\u001b[0;31mTypeError\u001b[0m                                 Traceback (most recent call last)",
            "\u001b[0;32m<ipython-input-3-270d801cd89b>\u001b[0m in \u001b[0;36m<module>\u001b[0;34m\u001b[0m\n\u001b[1;32m      6\u001b[0m \u001b[0mb\u001b[0m \u001b[0;34m=\u001b[0m \u001b[0;34m'string'\u001b[0m\u001b[0;34m\u001b[0m\u001b[0;34m\u001b[0m\u001b[0m\n\u001b[1;32m      7\u001b[0m \u001b[0;34m\u001b[0m\u001b[0m\n\u001b[0;32m----> 8\u001b[0;31m \u001b[0mprint\u001b[0m\u001b[0;34m(\u001b[0m\u001b[0ma\u001b[0m \u001b[0;34m+\u001b[0m \u001b[0mb\u001b[0m\u001b[0;34m)\u001b[0m \u001b[0;31m#\u001b[0m\u001b[0;34m\u001b[0m\u001b[0;34m\u001b[0m\u001b[0m\n\u001b[0m",
            "\u001b[0;31mTypeError\u001b[0m: unsupported operand type(s) for +: 'int' and 'str'"
          ]
        }
      ]
    },
    {
      "cell_type": "markdown",
      "source": [
        "# Q20. What are your options for recovering from an exception in your script?"
      ],
      "metadata": {
        "id": "J9qs6GSYXpmy"
      }
    },
    {
      "cell_type": "code",
      "source": [
        "# Try & Except blocks to handle the exceptions\n",
        "# Python code to catch an exception and handle it using try and except code blocks  \n",
        "\n",
        "mylist = ['Python','Exceptions', 'try and except']\n",
        "print(len(mylist))\n",
        "try:\n",
        "  # looping through the elements of the array mylist, choosing a range that goes beyond the the lenght of the array\n",
        "  for i in range(4):\n",
        "    print(\"The index and element from mylist is: \",i,mylist[i])\n",
        "# if an error occurs in the try block, the except block will be executed by the python interpreter  \n",
        "except:\n",
        "  print(\"Index out of range\")\n"
      ],
      "metadata": {
        "colab": {
          "base_uri": "https://localhost:8080/"
        },
        "id": "cIKH16t-nnOO",
        "outputId": "2f652436-b04f-4447-bd1f-a00502da940e"
      },
      "execution_count": null,
      "outputs": [
        {
          "output_type": "stream",
          "name": "stdout",
          "text": [
            "3\n",
            "The index and element from mylist is:  0 Python\n",
            "The index and element from mylist is:  1 Exceptions\n",
            "The index and element from mylist is:  2 try and except\n",
            "Index out of range\n"
          ]
        }
      ]
    },
    {
      "cell_type": "markdown",
      "source": [
        "# Q21. Describe two methods for triggering exceptions in your script."
      ],
      "metadata": {
        "id": "IfKPE7r4Xtpa"
      }
    },
    {
      "cell_type": "markdown",
      "source": [
        "There are mainly three kinds of distinguishable errors in Python: syntax errors, exceptions and logical errors.\n",
        "\n",
        "    Syntax errors are similar to grammar or spelling errors in a Language. If there is such an error in your code, Python cannot start to execute your code. You get a clear error message stating what is wrong and what needs to be fixed. Therefore, it is the easiest error type you can fix.\n",
        "    Missing symbols (such as comma, bracket, colon), misspelling a keyword, having incorrect indentation are common syntax errors in Python.\n",
        "    Exceptions may occur in syntactically correct code blocks at run time. When Python cannot execute the requested action, it terminates the code and raises an error message.\n",
        "    Trying to read from a file which does not exist, performing operations with incompatible types of variables, dividing a number by zero are common exceptions that raise an error in Python.\n",
        "    We must eliminate the syntax errors to run our Python code, while exceptions can be handled at runtime.\n",
        "    Logical errors are the most difficult errors to fix as they don’t crash your code and you don’t get any error message.\n",
        "    If you have logical errors, your code does not run as you expected.\n",
        "    Using incorrect variable names, code that is not reflecting the algorithm logic properly, making mistakes on boolean operators will result in logical errors."
      ],
      "metadata": {
        "id": "nIoVoul2pbmy"
      }
    },
    {
      "cell_type": "markdown",
      "source": [
        "# Q22. Identify two methods for specifying actions to be executed at termination time, regardless of whether or not an exception exists."
      ],
      "metadata": {
        "id": "Ljb8JB5FXxRh"
      }
    },
    {
      "cell_type": "code",
      "source": [
        "'''\n",
        "We can use try statement can be followed by a finally clause. Finally clauses are called clean-up or termination clause, bcoz it will\n",
        "always executed regardless if an execption ocurred in a try block or not. \n",
        "'''\n",
        "try:\n",
        "  a = 5/1\n",
        "finally:\n",
        "  print(\"There may or may not have been an execption\")\n",
        "\n",
        "print(a)"
      ],
      "metadata": {
        "colab": {
          "base_uri": "https://localhost:8080/"
        },
        "id": "qd0_Z5vcq7es",
        "outputId": "9e8d43a1-f080-4be9-c520-f621e5ff0fa8"
      },
      "execution_count": null,
      "outputs": [
        {
          "output_type": "stream",
          "name": "stdout",
          "text": [
            "There may or may not have been an execption\n",
            "5.0\n"
          ]
        }
      ]
    },
    {
      "cell_type": "markdown",
      "source": [
        "# Q23. What is the purpose of the try statement?"
      ],
      "metadata": {
        "id": "YTMUFW60X3sh"
      }
    },
    {
      "cell_type": "markdown",
      "source": [
        "The try statement allows us to define a block of code to be tested for error while it is being executed."
      ],
      "metadata": {
        "id": "1fDUOniWsXj7"
      }
    },
    {
      "cell_type": "markdown",
      "source": [
        "# Q24. What are the two most popular try statement variations?"
      ],
      "metadata": {
        "id": "ByjdiTTiYAoy"
      }
    },
    {
      "cell_type": "code",
      "source": [
        "#try, except & else statement\n",
        "#try, except & finally statement\n",
        "# Program to depict else clause with try-except\n",
        "\n",
        "# Function which returns a/b\n",
        "print(\"Try, Except & Else block\")\n",
        "def div(a , b):\n",
        "\ttry:\n",
        "\t\tc = ((a+b) // (a-b))\n",
        "\texcept ZeroDivisionError:\n",
        "\t\tprint (\"a/b result in 0\")\n",
        "\telse:\n",
        "\t\tprint (c)\n",
        "\n",
        "# Driver program to test above function\n",
        "div(2.0, 3.0)\n",
        "div(3.0, 3.0)\n",
        "\n",
        "\n",
        "print(\"\\nTry, Except & Finally blocks\")\n",
        "\t\n",
        "# No exception Exception raised in try block\n",
        "try:\n",
        "\tk = 5//0 # raises divide by zero exception.\n",
        "\tprint(k)\n",
        "\t\n",
        "# handles zerodivision exception\t\n",
        "except ZeroDivisionError:\n",
        "\tprint(\"Can't divide by zero\")\n",
        "\t\t\n",
        "finally:\n",
        "\t# this block is always executed\n",
        "\tprint('This is always executed')\n"
      ],
      "metadata": {
        "colab": {
          "base_uri": "https://localhost:8080/"
        },
        "id": "U3tdZ85Xtesl",
        "outputId": "f94252a0-4058-48cf-fa2f-de94a7735344"
      },
      "execution_count": null,
      "outputs": [
        {
          "output_type": "stream",
          "name": "stdout",
          "text": [
            "Try, Except & Else block\n",
            "-5.0\n",
            "a/b result in 0\n",
            "\n",
            "Try, Except & Finally blocks\n",
            "Can't divide by zero\n",
            "This is always executed\n"
          ]
        }
      ]
    },
    {
      "cell_type": "markdown",
      "source": [
        "# Q25. What is the purpose of the raise statement?"
      ],
      "metadata": {
        "id": "KaOxKW16YJwJ"
      }
    },
    {
      "cell_type": "code",
      "source": [
        "'''\n",
        "Python raise keyword is used to raise exceptions or errors. The raise keywword raises an error and stops the control flow of the program.\n",
        "It is used to bring up the current exception in an exception handler so that it can be handled further up the call stack.\n",
        "'''\n",
        "string = 'mystring'\n",
        "\n",
        "try:\n",
        "  num = int(string)\n",
        "except ValueError:\n",
        "  raise ValueError(\"String can't be changed into integer\")"
      ],
      "metadata": {
        "colab": {
          "base_uri": "https://localhost:8080/",
          "height": 384
        },
        "id": "p3o4tGzlui0H",
        "outputId": "b6c77b38-8dd1-4629-e08f-d37e8627a62e"
      },
      "execution_count": null,
      "outputs": [
        {
          "output_type": "error",
          "ename": "ValueError",
          "evalue": "ignored",
          "traceback": [
            "\u001b[0;31m---------------------------------------------------------------------------\u001b[0m",
            "\u001b[0;31mValueError\u001b[0m                                Traceback (most recent call last)",
            "\u001b[0;32m<ipython-input-13-572f4c7912e9>\u001b[0m in \u001b[0;36m<module>\u001b[0;34m\u001b[0m\n\u001b[1;32m      7\u001b[0m \u001b[0;32mtry\u001b[0m\u001b[0;34m:\u001b[0m\u001b[0;34m\u001b[0m\u001b[0;34m\u001b[0m\u001b[0m\n\u001b[0;32m----> 8\u001b[0;31m   \u001b[0mnum\u001b[0m \u001b[0;34m=\u001b[0m \u001b[0mint\u001b[0m\u001b[0;34m(\u001b[0m\u001b[0mstring\u001b[0m\u001b[0;34m)\u001b[0m\u001b[0;34m\u001b[0m\u001b[0;34m\u001b[0m\u001b[0m\n\u001b[0m\u001b[1;32m      9\u001b[0m \u001b[0;32mexcept\u001b[0m \u001b[0mValueError\u001b[0m\u001b[0;34m:\u001b[0m\u001b[0;34m\u001b[0m\u001b[0;34m\u001b[0m\u001b[0m\n",
            "\u001b[0;31mValueError\u001b[0m: invalid literal for int() with base 10: 'mystring'",
            "\nDuring handling of the above exception, another exception occurred:\n",
            "\u001b[0;31mValueError\u001b[0m                                Traceback (most recent call last)",
            "\u001b[0;32m<ipython-input-13-572f4c7912e9>\u001b[0m in \u001b[0;36m<module>\u001b[0;34m\u001b[0m\n\u001b[1;32m      8\u001b[0m   \u001b[0mnum\u001b[0m \u001b[0;34m=\u001b[0m \u001b[0mint\u001b[0m\u001b[0;34m(\u001b[0m\u001b[0mstring\u001b[0m\u001b[0;34m)\u001b[0m\u001b[0;34m\u001b[0m\u001b[0;34m\u001b[0m\u001b[0m\n\u001b[1;32m      9\u001b[0m \u001b[0;32mexcept\u001b[0m \u001b[0mValueError\u001b[0m\u001b[0;34m:\u001b[0m\u001b[0;34m\u001b[0m\u001b[0;34m\u001b[0m\u001b[0m\n\u001b[0;32m---> 10\u001b[0;31m   \u001b[0;32mraise\u001b[0m \u001b[0mValueError\u001b[0m\u001b[0;34m(\u001b[0m\u001b[0;34m\"String can't be changed into integer\"\u001b[0m\u001b[0;34m)\u001b[0m\u001b[0;34m\u001b[0m\u001b[0;34m\u001b[0m\u001b[0m\n\u001b[0m",
            "\u001b[0;31mValueError\u001b[0m: String can't be changed into integer"
          ]
        }
      ]
    },
    {
      "cell_type": "markdown",
      "source": [
        "# Q26. What does the assert statement do, and what other statement is it like?"
      ],
      "metadata": {
        "id": "qSnh6NzQYMzs"
      }
    },
    {
      "cell_type": "code",
      "source": [
        "'''\n",
        "assert statement has a condition or expression which is supposed to be always true.if the condition is false assert halts the program\n",
        "and gives an AssertionError.\n",
        "Assertions is a boolean expression that check if the conditions reture true of false.\n",
        "Other statements like if & return\n",
        "'''\n",
        "x = 'Hello'\n",
        "\n",
        "#if condition returns False, AssertionError is raised\n",
        "assert x == \"World\", \"x should be 'Hello' \""
      ],
      "metadata": {
        "colab": {
          "base_uri": "https://localhost:8080/",
          "height": 205
        },
        "id": "my4topI1v_Jv",
        "outputId": "9cd069fa-ad9c-446f-be5e-3b4c3622f70f"
      },
      "execution_count": null,
      "outputs": [
        {
          "output_type": "error",
          "ename": "AssertionError",
          "evalue": "ignored",
          "traceback": [
            "\u001b[0;31m---------------------------------------------------------------------------\u001b[0m",
            "\u001b[0;31mAssertionError\u001b[0m                            Traceback (most recent call last)",
            "\u001b[0;32m<ipython-input-14-99e4f1a6992a>\u001b[0m in \u001b[0;36m<module>\u001b[0;34m\u001b[0m\n\u001b[1;32m      7\u001b[0m \u001b[0;34m\u001b[0m\u001b[0m\n\u001b[1;32m      8\u001b[0m \u001b[0;31m#if condition returns False, AssertionError is raised\u001b[0m\u001b[0;34m\u001b[0m\u001b[0;34m\u001b[0m\u001b[0;34m\u001b[0m\u001b[0m\n\u001b[0;32m----> 9\u001b[0;31m \u001b[0;32massert\u001b[0m \u001b[0mx\u001b[0m \u001b[0;34m==\u001b[0m \u001b[0;34m\"World\"\u001b[0m\u001b[0;34m,\u001b[0m \u001b[0;34m\"x should be 'Hello' \"\u001b[0m\u001b[0;34m\u001b[0m\u001b[0;34m\u001b[0m\u001b[0m\n\u001b[0m",
            "\u001b[0;31mAssertionError\u001b[0m: x should be 'Hello' "
          ]
        }
      ]
    },
    {
      "cell_type": "markdown",
      "source": [
        "\n",
        "# Q27. What is the purpose of the with/as argument, and what other statement is it like?"
      ],
      "metadata": {
        "id": "tZy7Ng8LYPaC"
      }
    },
    {
      "cell_type": "code",
      "source": [
        "'''\n",
        "with statement is used in exception handling to make the code cleaner and much more readable.\n",
        "It simplifies the mgmt of common resources like file streams.\n",
        "\n",
        "as keyword is used to create an alias\n",
        "'''\n",
        "#Ex1 -without with statement:\n",
        "\n",
        "file = open('text.txt','w')\n",
        "file.write('Hello World')\n",
        "file.close()\n",
        "\n",
        "#Ex2 - using with statement:\n",
        "with open('new.txt','w') as file:\n",
        "  file.write('Hello World')\n",
        "\n"
      ],
      "metadata": {
        "id": "Bah-1Toh07Y4"
      },
      "execution_count": null,
      "outputs": []
    },
    {
      "cell_type": "markdown",
      "source": [
        "# Q28. What are *args, **kwargs?"
      ],
      "metadata": {
        "id": "EX2r4N_yYSHx"
      }
    },
    {
      "cell_type": "code",
      "source": [
        "'''\n",
        "To pass a variable number of arguments to a function using special symbols.\n",
        "There are two special symbols\n",
        "1: *args(Non-Keyword Arguments)\n",
        "2: **kwargs(Keyword Arguments)\n",
        "\n",
        "*args: The special syntax *args in function definitions in python is used to pass a variable number of arguments to a function. \n",
        "It is used to pass a non-key worded, variable-length argument list.\n",
        "\n",
        "**kwargs :  **kwargs in function is used to pass a keyworded, variable-length argument list. We use the name kwargs with the double star. \n",
        "The reason is that the double star allows us to pass through keyword arguments \n",
        "'''\n",
        "#Ex1 *args:\n",
        "print(\"*args Example\")\n",
        "def myargs(arg1, *args):\n",
        "  print(\"First Argument:\", arg1)\n",
        "  for arg in args:\n",
        "    print(\"Next arguments through *args\", arg)\n",
        "\n",
        "myargs('Hello','Welcome','to','Python')\n",
        "\n",
        "#Ex2 **kwargs\n",
        "print(\"\\n**kwargs Example\")\n",
        "def mykwargs(**kwargs):\n",
        "  for key, value in kwargs.items():\n",
        "    print(f\"{key} is {value}\")\n",
        "\n",
        "mykwargs(first_name='Joy', mid_name='Joy',last_name='Kumar')"
      ],
      "metadata": {
        "colab": {
          "base_uri": "https://localhost:8080/"
        },
        "id": "kqBN7qaM2EYk",
        "outputId": "a3505ada-75ae-407e-d2f8-44f8775b0843"
      },
      "execution_count": null,
      "outputs": [
        {
          "output_type": "stream",
          "name": "stdout",
          "text": [
            "*args Example\n",
            "First Argument: Hello\n",
            "Next arguments through *args Welcome\n",
            "Next arguments through *args to\n",
            "Next arguments through *args Python\n",
            "\n",
            "**kwargs Example\n",
            "first_name is Joy\n",
            "mid_name is Joy\n",
            "last_name is Kumar\n"
          ]
        }
      ]
    },
    {
      "cell_type": "markdown",
      "source": [
        "# Q29. How can I pass optional or keyword parameters from one function to another?"
      ],
      "metadata": {
        "id": "y9_0cQDRYUsz"
      }
    },
    {
      "cell_type": "code",
      "source": [
        "'''\n",
        "A python optional arguments is a type of arugment with a default value. We can assign an optional arugment using the assignment operator\n",
        "in function definition or using using python **kwargs statement\n",
        "There are two types of arguments a python function can accepts 'Positional' & 'Optional'.\n",
        "Optional Aruguments are values that do not need to be specified for a function bo be called.\n",
        "'''\n",
        "def func(a,b=10):\n",
        "  return a + b\n",
        "\n",
        "print(func(2))\n",
        "\n"
      ],
      "metadata": {
        "colab": {
          "base_uri": "https://localhost:8080/"
        },
        "id": "yHpcA1wX6CeB",
        "outputId": "2504febc-1f15-4b52-c491-8b718faded8f"
      },
      "execution_count": null,
      "outputs": [
        {
          "output_type": "stream",
          "name": "stdout",
          "text": [
            "12\n"
          ]
        }
      ]
    },
    {
      "cell_type": "markdown",
      "source": [
        "# Q30. What are Lambda Functions?"
      ],
      "metadata": {
        "id": "OP1nYxrUYXUR"
      }
    },
    {
      "cell_type": "code",
      "source": [
        "'''\n",
        "Lambda function are anonymous function means that the function is without a name.\n",
        "Lambda function can take any numbers of arguments, but can only have one expressions.\n",
        "Synatx : lambda argument(s) : expression \n",
        "'''\n",
        "\n",
        "#Ex1:\n",
        "mystring = 'hello world'\n",
        "\n",
        "upper_str = lambda mystr: mystr.upper()\n",
        "print(upper_str(mystring))\n",
        "\n",
        "#Ex2:\n",
        "mynum = [10,9,8,7,6,5,4,3,2,1]\n",
        "\n",
        "num = filter (lambda n : n > 4, mynum)\n",
        "\n",
        "print(list(num))\n"
      ],
      "metadata": {
        "colab": {
          "base_uri": "https://localhost:8080/"
        },
        "id": "zzm4f-Bz7pub",
        "outputId": "9821bf9c-3a9c-45c9-e544-559aa26f1626"
      },
      "execution_count": null,
      "outputs": [
        {
          "output_type": "stream",
          "name": "stdout",
          "text": [
            "HELLO WORLD\n",
            "[10, 9, 8, 7, 6, 5]\n"
          ]
        }
      ]
    },
    {
      "cell_type": "markdown",
      "source": [
        "# Q31. Explain Inheritance in Python with an example?"
      ],
      "metadata": {
        "id": "MIz7gkGoYZ3L"
      }
    },
    {
      "cell_type": "code",
      "source": [
        "'''\n",
        "Inheritance is the process of copying the attributes from parent class and we can add or modify the methods as well.\n",
        "'''\n",
        "#Parent\n",
        "class Employee():\n",
        "  # Contructor\n",
        "  def __init__(self,name,salary):\n",
        "    self.name = name\n",
        "    self.salary = salary\n",
        "  \n",
        "  #Method\n",
        "  def salary_hike(self):\n",
        "    self.salary = self.salary * 1.5\n",
        "\n",
        "#Instance of a class\n",
        "emp_sde = Employee('Ajay',50000)\n",
        "print(emp_sde.name)\n",
        "print(\"Salary hike for SDE\")\n",
        "emp_sde.salary_hike()\n",
        "print(emp_sde.salary)\n",
        "\n",
        "# Dervied Class using inheritance\n",
        "class Manager(Employee):\n",
        "  def salary_hike(self):\n",
        "      self.salary = self.salary * 2\n",
        "\n",
        "emp_mgr = Manager('Babu',75000)\n",
        "print(\"\\nManager Salary Hike\")\n",
        "print(emp_mgr.name)\n",
        "emp_mgr.salary_hike()\n",
        "print(emp_mgr.salary)"
      ],
      "metadata": {
        "colab": {
          "base_uri": "https://localhost:8080/"
        },
        "id": "VEeXBkaj-XIv",
        "outputId": "09e4f6ed-c7c2-49d6-bd0f-cf9a315670fe"
      },
      "execution_count": null,
      "outputs": [
        {
          "output_type": "stream",
          "name": "stdout",
          "text": [
            "Ajay\n",
            "Salary hike for SDE\n",
            "75000.0\n",
            "\n",
            "Manager Salary Hike\n",
            "Babu\n",
            "150000\n"
          ]
        }
      ]
    },
    {
      "cell_type": "markdown",
      "source": [
        "# Q32. Suppose class C inherits from classes A and B as class C(A,B).Classes A and B both have their own versions of method func(). If we call func() from an object of class C, which version gets invoked?"
      ],
      "metadata": {
        "id": "YYMVQsl0Ye9i"
      }
    },
    {
      "cell_type": "code",
      "source": [
        "# From C class we can invoke both parent 'A' & child 'B' class\n",
        "class A:\n",
        "  def p_msg(self):\n",
        "    print(\"Parent Class\")\n",
        "class B:\n",
        "  def c_msg(self):\n",
        "    print(\"Child Class\")\n",
        "class C(A,B):\n",
        "  def sc_msg(self):\n",
        "    print(\"Second Child Class\")\n",
        "\n",
        "second_drv_class = C()\n",
        "second_drv_class.p_msg()\n",
        "second_drv_class.c_msg()\n",
        "\n",
        "  "
      ],
      "metadata": {
        "colab": {
          "base_uri": "https://localhost:8080/"
        },
        "id": "I-DOTio2CJEm",
        "outputId": "37dcdb7d-c878-4b13-c962-865e215a9206"
      },
      "execution_count": null,
      "outputs": [
        {
          "output_type": "stream",
          "name": "stdout",
          "text": [
            "Parent Class\n",
            "Child Class\n"
          ]
        }
      ]
    },
    {
      "cell_type": "markdown",
      "source": [
        "# Q33. Which methods/functions do we use to determine the type of instance and inheritance?"
      ],
      "metadata": {
        "id": "87tCfuMiYkRz"
      }
    },
    {
      "cell_type": "code",
      "source": [
        "'''\n",
        "isinstance() : function returns True, if the object is specified types, and it will not match then return False\n",
        "\n",
        "issubclass() : function used to check if a class is a subclass of another call or not. This function returns True if the given class is\n",
        "subclass of given class else it returns False\n",
        "\n",
        "'''\n",
        "\n",
        "print(\"isinstance\")\n",
        "my_int = 5\n",
        "my_list = [1,2,3]\n",
        "\n",
        "print(\"Is my_int integer? : \" + str(isinstance(my_int,int)))\n",
        "print(\"Is my_int string? : \" + str(isinstance(my_int,str))) \n",
        "print(\"Is my_list list? : \"  + str(isinstance(my_list,list)))\n",
        "\n",
        "print(\"\\nissubclass\")\n",
        "# Define Parent Class\n",
        "class Vehicles:\n",
        "\n",
        "  #Contructor\n",
        "  def __init__(vehicle):\n",
        "    print('Vehicles is a ', vehicle)\n",
        "  \n",
        "#derived class\n",
        "class Car(Vehicles):\n",
        "  def __init__(self):\n",
        "    Vehicles.__init__('Car')\n",
        "\n",
        "print(issubclass(Car, Vehicles))\n",
        "print(issubclass(Car, list))"
      ],
      "metadata": {
        "colab": {
          "base_uri": "https://localhost:8080/"
        },
        "id": "iNUR4nm14QR2",
        "outputId": "c2ec7bfb-fad3-4c7b-f4a2-df9bf8ecc4e1"
      },
      "execution_count": 8,
      "outputs": [
        {
          "output_type": "stream",
          "name": "stdout",
          "text": [
            "isinstance\n",
            "Is my_int integer? : True\n",
            "Is my_int string? : False\n",
            "Is my_list list? : True\n",
            "\n",
            "issubclass\n",
            "True\n",
            "False\n"
          ]
        }
      ]
    },
    {
      "cell_type": "markdown",
      "source": [
        "# Q34.Explain the use of the 'nonlocal' keyword in Python."
      ],
      "metadata": {
        "id": "GS0D5GPrYn8L"
      }
    },
    {
      "cell_type": "code",
      "source": [
        "'''\n",
        "The nonlocal keyword won't work on local or global variables and therefore must be used to reference variables in another \n",
        "scope except the global and local one.\n",
        "The nonlocal keyword is used in nested functions to reference a variable in parent function.\n",
        "'''\n",
        "\n",
        "def non():\n",
        "  name = 'Joy' # local variable\n",
        "\n",
        "  def local():\n",
        "    nonlocal name # Reference the name in the upper scope\n",
        "    name = 'Joys_of_Python'\n",
        "    print(name)\n",
        "\n",
        "  # calling inner function\n",
        "  local()\n",
        "  # Printing local variable\n",
        "  print(name)\n",
        "\n",
        "#calling function\n",
        "non()\n"
      ],
      "metadata": {
        "colab": {
          "base_uri": "https://localhost:8080/"
        },
        "id": "UfYxde7T99Fx",
        "outputId": "ce062640-2809-47f4-b352-cc4293dd6c58"
      },
      "execution_count": 9,
      "outputs": [
        {
          "output_type": "stream",
          "name": "stdout",
          "text": [
            "Joys_of_Python\n",
            "Joys_of_Python\n"
          ]
        }
      ]
    },
    {
      "cell_type": "markdown",
      "source": [
        "\n",
        "# Q35. What is the global keyword?"
      ],
      "metadata": {
        "id": "hTveDWJYYqWa"
      }
    },
    {
      "cell_type": "code",
      "source": [
        "'''\n",
        "Global keyword is a keyword that allows a user to modify a variable outside the current scope. It is used to create global variables.\n",
        "'''\n",
        "x = 15\n",
        "y = 0\n",
        "\n",
        "def cal():\n",
        "  # using a global keyword\n",
        "  global x\n",
        "  y = 5\n",
        "\n",
        "  #increment value by 5\n",
        "  x = x + 5\n",
        "  y = y + 5\n",
        "  print(\"Value of X inside a function :\", x)\n",
        "  print(\"Value of Y inside a function :\", y)\n",
        "\n",
        "\n",
        "cal()\n",
        "print(\"\\nValue of X outside a function: \", x)\n",
        "print(\"Value of Y outside a fucntion: \", y)"
      ],
      "metadata": {
        "colab": {
          "base_uri": "https://localhost:8080/"
        },
        "collapsed": true,
        "id": "JUlWOHW2_TTy",
        "outputId": "be2f5b15-a09e-48b4-c6ae-a95bde51f884"
      },
      "execution_count": 11,
      "outputs": [
        {
          "output_type": "stream",
          "name": "stdout",
          "text": [
            "Value of X inside a function : 20\n",
            "Value of Y inside a function : 10\n",
            "\n",
            "Value of X outside a function:  20\n",
            "Value of Y outside a fucntion:  0\n"
          ]
        }
      ]
    }
  ]
}