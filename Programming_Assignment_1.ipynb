{
  "nbformat": 4,
  "nbformat_minor": 0,
  "metadata": {
    "colab": {
      "provenance": [],
      "collapsed_sections": [],
      "authorship_tag": "ABX9TyN5wzBTAQW+PTqb1Tbk2VSG",
      "include_colab_link": true
    },
    "kernelspec": {
      "name": "python3",
      "display_name": "Python 3"
    },
    "language_info": {
      "name": "python"
    }
  },
  "cells": [
    {
      "cell_type": "markdown",
      "metadata": {
        "id": "view-in-github",
        "colab_type": "text"
      },
      "source": [
        "<a href=\"https://colab.research.google.com/github/pavi-de/DE_Assignments/blob/main/Programming_Assignment_1.ipynb\" target=\"_parent\"><img src=\"https://colab.research.google.com/assets/colab-badge.svg\" alt=\"Open In Colab\"/></a>"
      ]
    },
    {
      "cell_type": "code",
      "execution_count": 1,
      "metadata": {
        "colab": {
          "base_uri": "https://localhost:8080/"
        },
        "id": "gu5T7cJ4jEtD",
        "outputId": "2262d564-8e0e-4ab2-c6ed-67d76b0c7baa"
      },
      "outputs": [
        {
          "output_type": "stream",
          "name": "stdout",
          "text": [
            "Hello Python\n"
          ]
        }
      ],
      "source": [
        "# 1. Write a Python program to print \"Hello Python\"?\n",
        "print(\"Hello Python\")"
      ]
    },
    {
      "cell_type": "code",
      "source": [
        "# 2. Write a Python program to do arithmetical operations addition and division.?\n",
        "\n",
        "a = 10\n",
        "b = 20\n",
        "\n",
        "print(a + b)\n",
        "print(a / b)"
      ],
      "metadata": {
        "colab": {
          "base_uri": "https://localhost:8080/"
        },
        "id": "FMPcYi53jSYD",
        "outputId": "c15a9014-b5e1-4613-a041-fb87bc3e9ae3"
      },
      "execution_count": 3,
      "outputs": [
        {
          "output_type": "stream",
          "name": "stdout",
          "text": [
            "30\n",
            "0.5\n"
          ]
        }
      ]
    },
    {
      "cell_type": "code",
      "source": [
        "# 3. Write a Python program to find the area of a triangle?\n",
        "\n",
        "base = int(input(\"Enter the value of base: \"))\n",
        "height = int(input(\"Enter the value of height: \"))\n",
        "\n",
        "area = base * height / 2\n",
        "\n",
        "print(f\"Area of triangle is: {area}\")\n"
      ],
      "metadata": {
        "colab": {
          "base_uri": "https://localhost:8080/"
        },
        "id": "G2N2bFUtjo9L",
        "outputId": "4ef4cd0d-4158-4ab3-978a-5e398528181a"
      },
      "execution_count": 7,
      "outputs": [
        {
          "output_type": "stream",
          "name": "stdout",
          "text": [
            "Enter the value of base: 11\n",
            "Enter the value of height: 12\n",
            "Area of triangle is: 66.0\n"
          ]
        }
      ]
    },
    {
      "cell_type": "code",
      "source": [
        "# 4. Write a Python program to swap two variables?\n",
        "\n",
        "num1 = int(input(\"Enter the value of 1: \"))\n",
        "num2 = int(input(\"Enter the value of 2: \"))\n",
        "\n",
        "print(\"Before swap of num1 value: \", num1)\n",
        "print(\"Before swap of num2 value: \", num2)\n",
        "\n",
        "num1, num2 = num2, num1\n",
        "\n",
        "print(f\"After swap of num1 value is: {num1}\")\n",
        "print(f\"After swap of num2 value is: {num2}\")\n",
        "\n"
      ],
      "metadata": {
        "colab": {
          "base_uri": "https://localhost:8080/"
        },
        "id": "UQNEjtTxjxYV",
        "outputId": "223c0f68-80a6-4788-d127-de5a57bbc270"
      },
      "execution_count": 8,
      "outputs": [
        {
          "output_type": "stream",
          "name": "stdout",
          "text": [
            "Enter the value of 1: 11\n",
            "Enter the value of 2: 22\n",
            "Before swap of num1 value:  11\n",
            "Before swap of num2 value:  22\n",
            "After swap of num1 value is: 22\n",
            "After swap of num2 value is: 11\n"
          ]
        }
      ]
    },
    {
      "cell_type": "code",
      "source": [
        "# 5. Write a Python program to generate a random number?\n",
        "\n",
        "from IPython.utils.path import random\n",
        "\n",
        "random_num = random.randint(1,11)\n",
        "print(random_num)"
      ],
      "metadata": {
        "colab": {
          "base_uri": "https://localhost:8080/"
        },
        "id": "2jFM-5ARo9p4",
        "outputId": "2ab66b9a-7180-42d3-9fcf-f43e5e23f068"
      },
      "execution_count": 20,
      "outputs": [
        {
          "output_type": "stream",
          "name": "stdout",
          "text": [
            "7\n"
          ]
        }
      ]
    }
  ]
}